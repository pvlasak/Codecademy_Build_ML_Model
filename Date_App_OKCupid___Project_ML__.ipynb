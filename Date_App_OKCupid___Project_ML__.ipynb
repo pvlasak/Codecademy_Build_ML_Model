{
 "cells": [
  {
   "cell_type": "code",
   "execution_count": 5,
   "id": "d826ff50",
   "metadata": {},
   "outputs": [],
   "source": [
    "import pandas as pd\n",
    "import numpy as np\n",
    "from matplotlib import pyplot as plt\n",
    "from string import punctuation"
   ]
  },
  {
   "cell_type": "code",
   "execution_count": 6,
   "id": "a12d697b",
   "metadata": {},
   "outputs": [],
   "source": [
    "df = pd.read_csv(\"../profiles.csv\")"
   ]
  },
  {
   "cell_type": "markdown",
   "id": "a2342f2b",
   "metadata": {},
   "source": [
    "This project is focused on data analysis and building of machine learning algorithms for the data points provided by OKCupid Company. \n",
    "\n",
    "Data set contains of several columns, where information about each individual OKCupid user are specified. "
   ]
  },
  {
   "cell_type": "code",
   "execution_count": 7,
   "id": "28cb4615",
   "metadata": {},
   "outputs": [
    {
     "data": {
      "text/html": [
       "<div>\n",
       "<style scoped>\n",
       "    .dataframe tbody tr th:only-of-type {\n",
       "        vertical-align: middle;\n",
       "    }\n",
       "\n",
       "    .dataframe tbody tr th {\n",
       "        vertical-align: top;\n",
       "    }\n",
       "\n",
       "    .dataframe thead th {\n",
       "        text-align: right;\n",
       "    }\n",
       "</style>\n",
       "<table border=\"1\" class=\"dataframe\">\n",
       "  <thead>\n",
       "    <tr style=\"text-align: right;\">\n",
       "      <th></th>\n",
       "      <th>age</th>\n",
       "      <th>body_type</th>\n",
       "      <th>diet</th>\n",
       "      <th>drinks</th>\n",
       "      <th>drugs</th>\n",
       "      <th>education</th>\n",
       "      <th>essay0</th>\n",
       "      <th>essay1</th>\n",
       "      <th>essay2</th>\n",
       "      <th>essay3</th>\n",
       "      <th>...</th>\n",
       "      <th>location</th>\n",
       "      <th>offspring</th>\n",
       "      <th>orientation</th>\n",
       "      <th>pets</th>\n",
       "      <th>religion</th>\n",
       "      <th>sex</th>\n",
       "      <th>sign</th>\n",
       "      <th>smokes</th>\n",
       "      <th>speaks</th>\n",
       "      <th>status</th>\n",
       "    </tr>\n",
       "  </thead>\n",
       "  <tbody>\n",
       "    <tr>\n",
       "      <th>0</th>\n",
       "      <td>22</td>\n",
       "      <td>a little extra</td>\n",
       "      <td>strictly anything</td>\n",
       "      <td>socially</td>\n",
       "      <td>never</td>\n",
       "      <td>working on college/university</td>\n",
       "      <td>about me:&lt;br /&gt;\\r\\n&lt;br /&gt;\\r\\ni would love to t...</td>\n",
       "      <td>currently working as an international agent fo...</td>\n",
       "      <td>making people laugh.&lt;br /&gt;\\r\\nranting about a ...</td>\n",
       "      <td>the way i look. i am a six foot half asian, ha...</td>\n",
       "      <td>...</td>\n",
       "      <td>south san francisco, california</td>\n",
       "      <td>doesn&amp;rsquo;t have kids, but might want them</td>\n",
       "      <td>straight</td>\n",
       "      <td>likes dogs and likes cats</td>\n",
       "      <td>agnosticism and very serious about it</td>\n",
       "      <td>m</td>\n",
       "      <td>gemini</td>\n",
       "      <td>sometimes</td>\n",
       "      <td>english</td>\n",
       "      <td>single</td>\n",
       "    </tr>\n",
       "    <tr>\n",
       "      <th>1</th>\n",
       "      <td>35</td>\n",
       "      <td>average</td>\n",
       "      <td>mostly other</td>\n",
       "      <td>often</td>\n",
       "      <td>sometimes</td>\n",
       "      <td>working on space camp</td>\n",
       "      <td>i am a chef: this is what that means.&lt;br /&gt;\\r\\...</td>\n",
       "      <td>dedicating everyday to being an unbelievable b...</td>\n",
       "      <td>being silly. having ridiculous amonts of fun w...</td>\n",
       "      <td>NaN</td>\n",
       "      <td>...</td>\n",
       "      <td>oakland, california</td>\n",
       "      <td>doesn&amp;rsquo;t have kids, but might want them</td>\n",
       "      <td>straight</td>\n",
       "      <td>likes dogs and likes cats</td>\n",
       "      <td>agnosticism but not too serious about it</td>\n",
       "      <td>m</td>\n",
       "      <td>cancer</td>\n",
       "      <td>no</td>\n",
       "      <td>english (fluently), spanish (poorly), french (...</td>\n",
       "      <td>single</td>\n",
       "    </tr>\n",
       "    <tr>\n",
       "      <th>2</th>\n",
       "      <td>38</td>\n",
       "      <td>thin</td>\n",
       "      <td>anything</td>\n",
       "      <td>socially</td>\n",
       "      <td>NaN</td>\n",
       "      <td>graduated from masters program</td>\n",
       "      <td>i'm not ashamed of much, but writing public te...</td>\n",
       "      <td>i make nerdy software for musicians, artists, ...</td>\n",
       "      <td>improvising in different contexts. alternating...</td>\n",
       "      <td>my large jaw and large glasses are the physica...</td>\n",
       "      <td>...</td>\n",
       "      <td>san francisco, california</td>\n",
       "      <td>NaN</td>\n",
       "      <td>straight</td>\n",
       "      <td>has cats</td>\n",
       "      <td>NaN</td>\n",
       "      <td>m</td>\n",
       "      <td>pisces but it doesn&amp;rsquo;t matter</td>\n",
       "      <td>no</td>\n",
       "      <td>english, french, c++</td>\n",
       "      <td>available</td>\n",
       "    </tr>\n",
       "    <tr>\n",
       "      <th>3</th>\n",
       "      <td>23</td>\n",
       "      <td>thin</td>\n",
       "      <td>vegetarian</td>\n",
       "      <td>socially</td>\n",
       "      <td>NaN</td>\n",
       "      <td>working on college/university</td>\n",
       "      <td>i work in a library and go to school. . .</td>\n",
       "      <td>reading things written by old dead people</td>\n",
       "      <td>playing synthesizers and organizing books acco...</td>\n",
       "      <td>socially awkward but i do my best</td>\n",
       "      <td>...</td>\n",
       "      <td>berkeley, california</td>\n",
       "      <td>doesn&amp;rsquo;t want kids</td>\n",
       "      <td>straight</td>\n",
       "      <td>likes cats</td>\n",
       "      <td>NaN</td>\n",
       "      <td>m</td>\n",
       "      <td>pisces</td>\n",
       "      <td>no</td>\n",
       "      <td>english, german (poorly)</td>\n",
       "      <td>single</td>\n",
       "    </tr>\n",
       "    <tr>\n",
       "      <th>4</th>\n",
       "      <td>29</td>\n",
       "      <td>athletic</td>\n",
       "      <td>NaN</td>\n",
       "      <td>socially</td>\n",
       "      <td>never</td>\n",
       "      <td>graduated from college/university</td>\n",
       "      <td>hey how's it going? currently vague on the pro...</td>\n",
       "      <td>work work work work + play</td>\n",
       "      <td>creating imagery to look at:&lt;br /&gt;\\r\\nhttp://b...</td>\n",
       "      <td>i smile a lot and my inquisitive nature</td>\n",
       "      <td>...</td>\n",
       "      <td>san francisco, california</td>\n",
       "      <td>NaN</td>\n",
       "      <td>straight</td>\n",
       "      <td>likes dogs and likes cats</td>\n",
       "      <td>NaN</td>\n",
       "      <td>m</td>\n",
       "      <td>aquarius</td>\n",
       "      <td>no</td>\n",
       "      <td>english</td>\n",
       "      <td>single</td>\n",
       "    </tr>\n",
       "  </tbody>\n",
       "</table>\n",
       "<p>5 rows × 31 columns</p>\n",
       "</div>"
      ],
      "text/plain": [
       "   age       body_type               diet    drinks      drugs  \\\n",
       "0   22  a little extra  strictly anything  socially      never   \n",
       "1   35         average       mostly other     often  sometimes   \n",
       "2   38            thin           anything  socially        NaN   \n",
       "3   23            thin         vegetarian  socially        NaN   \n",
       "4   29        athletic                NaN  socially      never   \n",
       "\n",
       "                           education  \\\n",
       "0      working on college/university   \n",
       "1              working on space camp   \n",
       "2     graduated from masters program   \n",
       "3      working on college/university   \n",
       "4  graduated from college/university   \n",
       "\n",
       "                                              essay0  \\\n",
       "0  about me:<br />\\r\\n<br />\\r\\ni would love to t...   \n",
       "1  i am a chef: this is what that means.<br />\\r\\...   \n",
       "2  i'm not ashamed of much, but writing public te...   \n",
       "3          i work in a library and go to school. . .   \n",
       "4  hey how's it going? currently vague on the pro...   \n",
       "\n",
       "                                              essay1  \\\n",
       "0  currently working as an international agent fo...   \n",
       "1  dedicating everyday to being an unbelievable b...   \n",
       "2  i make nerdy software for musicians, artists, ...   \n",
       "3          reading things written by old dead people   \n",
       "4                         work work work work + play   \n",
       "\n",
       "                                              essay2  \\\n",
       "0  making people laugh.<br />\\r\\nranting about a ...   \n",
       "1  being silly. having ridiculous amonts of fun w...   \n",
       "2  improvising in different contexts. alternating...   \n",
       "3  playing synthesizers and organizing books acco...   \n",
       "4  creating imagery to look at:<br />\\r\\nhttp://b...   \n",
       "\n",
       "                                              essay3  ...  \\\n",
       "0  the way i look. i am a six foot half asian, ha...  ...   \n",
       "1                                                NaN  ...   \n",
       "2  my large jaw and large glasses are the physica...  ...   \n",
       "3                  socially awkward but i do my best  ...   \n",
       "4            i smile a lot and my inquisitive nature  ...   \n",
       "\n",
       "                          location  \\\n",
       "0  south san francisco, california   \n",
       "1              oakland, california   \n",
       "2        san francisco, california   \n",
       "3             berkeley, california   \n",
       "4        san francisco, california   \n",
       "\n",
       "                                      offspring orientation  \\\n",
       "0  doesn&rsquo;t have kids, but might want them    straight   \n",
       "1  doesn&rsquo;t have kids, but might want them    straight   \n",
       "2                                           NaN    straight   \n",
       "3                       doesn&rsquo;t want kids    straight   \n",
       "4                                           NaN    straight   \n",
       "\n",
       "                        pets                                  religion sex  \\\n",
       "0  likes dogs and likes cats     agnosticism and very serious about it   m   \n",
       "1  likes dogs and likes cats  agnosticism but not too serious about it   m   \n",
       "2                   has cats                                       NaN   m   \n",
       "3                 likes cats                                       NaN   m   \n",
       "4  likes dogs and likes cats                                       NaN   m   \n",
       "\n",
       "                                 sign     smokes  \\\n",
       "0                              gemini  sometimes   \n",
       "1                              cancer         no   \n",
       "2  pisces but it doesn&rsquo;t matter         no   \n",
       "3                              pisces         no   \n",
       "4                            aquarius         no   \n",
       "\n",
       "                                              speaks     status  \n",
       "0                                            english     single  \n",
       "1  english (fluently), spanish (poorly), french (...     single  \n",
       "2                               english, french, c++  available  \n",
       "3                           english, german (poorly)     single  \n",
       "4                                            english     single  \n",
       "\n",
       "[5 rows x 31 columns]"
      ]
     },
     "execution_count": 7,
     "metadata": {},
     "output_type": "execute_result"
    }
   ],
   "source": [
    "df.head()"
   ]
  },
  {
   "cell_type": "markdown",
   "id": "2fed8226",
   "metadata": {},
   "source": [
    "Following columns in the data set contain NaN value:"
   ]
  },
  {
   "cell_type": "code",
   "execution_count": 8,
   "id": "0a64accd",
   "metadata": {},
   "outputs": [
    {
     "data": {
      "text/plain": [
       "age                0\n",
       "body_type       5296\n",
       "diet           24395\n",
       "drinks          2985\n",
       "drugs          14080\n",
       "education       6628\n",
       "essay0          5488\n",
       "essay1          7572\n",
       "essay2          9638\n",
       "essay3         11476\n",
       "essay4         10537\n",
       "essay5         10850\n",
       "essay6         13771\n",
       "essay7         12451\n",
       "essay8         19225\n",
       "essay9         12603\n",
       "ethnicity       5680\n",
       "height             3\n",
       "income             0\n",
       "job             8198\n",
       "last_online        0\n",
       "location           0\n",
       "offspring      35561\n",
       "orientation        0\n",
       "pets           19921\n",
       "religion       20226\n",
       "sex                0\n",
       "sign           11056\n",
       "smokes          5512\n",
       "speaks            50\n",
       "status             0\n",
       "dtype: int64"
      ]
     },
     "execution_count": 8,
     "metadata": {},
     "output_type": "execute_result"
    }
   ],
   "source": [
    "df.isna().sum()"
   ]
  },
  {
   "cell_type": "markdown",
   "id": "5c53a89a",
   "metadata": {},
   "source": [
    "Here are the column names shown as a Pandas object:"
   ]
  },
  {
   "cell_type": "code",
   "execution_count": 9,
   "id": "d1960c38",
   "metadata": {},
   "outputs": [
    {
     "data": {
      "text/plain": [
       "Index(['age', 'body_type', 'diet', 'drinks', 'drugs', 'education', 'essay0',\n",
       "       'essay1', 'essay2', 'essay3', 'essay4', 'essay5', 'essay6', 'essay7',\n",
       "       'essay8', 'essay9', 'ethnicity', 'height', 'income', 'job',\n",
       "       'last_online', 'location', 'offspring', 'orientation', 'pets',\n",
       "       'religion', 'sex', 'sign', 'smokes', 'speaks', 'status'],\n",
       "      dtype='object')"
      ]
     },
     "execution_count": 9,
     "metadata": {},
     "output_type": "execute_result"
    }
   ],
   "source": [
    "df.columns"
   ]
  },
  {
   "cell_type": "code",
   "execution_count": 10,
   "id": "a620633a",
   "metadata": {},
   "outputs": [],
   "source": [
    "#Unique fluently spoken languages from dataset\n",
    "List_Fluently = []\n",
    "for i in list(df.index.values):\n",
    "    for index in range(len(str(list(df.loc[i][[\"speaks\"]])[0]).split(\",\"))):\n",
    "        item = (str(list(df.loc[i][[\"speaks\"]])[0]).split(\",\"))[index].strip(\" \")\n",
    "        if \"(fluently)\" in item and item not in List_Fluently:\n",
    "            List_Fluently.append(item)    "
   ]
  },
  {
   "cell_type": "code",
   "execution_count": 11,
   "id": "287141f5",
   "metadata": {},
   "outputs": [],
   "source": [
    "most_learned_in_US = ['spanish', 'french', 'german', \n",
    "                      'italian', 'japanese','chinese',\n",
    "                      'arabic', 'russian', 'portuguese',\n",
    "                      'latin', 'korean'\n",
    "                     ]"
   ]
  },
  {
   "cell_type": "code",
   "execution_count": 12,
   "id": "71107c48",
   "metadata": {},
   "outputs": [],
   "source": [
    "# ## Number of fluently and okay spoken foreign languages that are the most learned in US\n",
    "List_Num_Fluently = []\n",
    "List_Num_Okay = []\n",
    "\n",
    "for i in list(df.index.values):\n",
    "    fluently = 0\n",
    "    okay = 0\n",
    "    for index in range(len(str(list(df.loc[i][[\"speaks\"]])[0]).split(\",\"))):\n",
    "        item = (str(list(df.loc[i][[\"speaks\"]])[0]).split(\",\"))[index]\n",
    "        item.strip(\" \")\n",
    "        if \"(fluently)\" in item and item.split()[0] in most_learned_in_US:\n",
    "            fluently += 1\n",
    "        elif \"(okay)\" in item and item.split()[0] in most_learned_in_US:\n",
    "            okay += 1\n",
    "    List_Num_Fluently.append(fluently)\n",
    "    List_Num_Okay.append(okay)\n",
    "    \n",
    "    \n",
    "    \n",
    "Num_Fluently_Arr = np.array(List_Num_Fluently)\n",
    "df = df.join(pd.DataFrame(data = Num_Fluently_Arr).rename(columns = { 0 : 'Num_Langs_Fluently'}))\n",
    "Num_Okay_Arr = np.array(List_Num_Okay)\n",
    "df = df.join(pd.DataFrame(data = Num_Okay_Arr).rename(columns = { 0 : 'Num_Langs_Okay'}))"
   ]
  },
  {
   "cell_type": "markdown",
   "id": "29e7a86d",
   "metadata": {},
   "source": [
    "## State codes"
   ]
  },
  {
   "cell_type": "code",
   "execution_count": 14,
   "id": "abf82c5d",
   "metadata": {},
   "outputs": [],
   "source": [
    "state_list = []\n",
    "for i in list(df.index.values):\n",
    "    state = str(list(df.loc[i][[\"location\"]])[0]).split(\",\")[-1]\n",
    "    state = state.strip(\" \")\n",
    "    state_list.append(state)\n",
    "State_Arr = np.array(state_list)\n",
    "df = df.join(pd.DataFrame(data = State_Arr).rename(columns = { 0 : 'State'}))"
   ]
  },
  {
   "cell_type": "code",
   "execution_count": 15,
   "id": "f5930fed",
   "metadata": {},
   "outputs": [
    {
     "data": {
      "text/plain": [
       "State        \n",
       "california       59855\n",
       "new york            17\n",
       "illinois             8\n",
       "massachusetts        5\n",
       "oregon               4\n",
       "dtype: int64"
      ]
     },
     "execution_count": 15,
     "metadata": {},
     "output_type": "execute_result"
    }
   ],
   "source": [
    "df[[\"State\"]].value_counts().head(5)"
   ]
  },
  {
   "cell_type": "markdown",
   "id": "551ce9ff",
   "metadata": {},
   "source": [
    "0 : California\n",
    "\n",
    "1 : Other State of US\n",
    "\n",
    "2 : Other"
   ]
  },
  {
   "cell_type": "code",
   "execution_count": 16,
   "id": "41059953",
   "metadata": {},
   "outputs": [
    {
     "name": "stdout",
     "output_type": "stream",
     "text": [
      "{'california': 0, 'new york': 1, 'illinois': 1, 'massachusetts': 1, 'texas': 1, 'michigan': 1, 'oregon': 1, 'florida': 1, 'arizona': 1, 'minnesota': 1, 'ohio': 1, 'united kingdom': 2, 'spain': 2, 'district of columbia': 1, 'washington': 1, 'utah': 1, 'georgia': 1, 'hawaii': 1, 'virginia': 1, 'colorado': 1, 'nevada': 1, 'idaho': 1, 'mexico': 1, 'ireland': 1, 'wisconsin': 1, 'north carolina': 1, 'netherlands': 2, 'switzerland': 2, 'germany': 2, 'louisiana': 1, 'tennessee': 1, 'new jersey': 1, 'connecticut': 1, 'mississippi': 1, 'rhode island': 1, 'montana': 1, 'vietnam': 2, 'west virginia': 1, 'missouri': 1, 'pennsylvania': 1, 'canada': 2}\n"
     ]
    }
   ],
   "source": [
    "states_to_code = ['california', 'new york', 'illinois', 'massachusetts', 'texas', 'michigan', 'oregon', \n",
    "                  'arizona', 'florida', 'minnesota', 'georgia', 'ohio', 'virginia', 'hawaii', \n",
    "                  'colorado', 'district of columbia', 'washington', 'utah', \n",
    "                  'north carolina', 'mexico', 'ireland', 'montana', \n",
    "                  'rhode island', 'pennsylvania', 'mississippi', 'west virginia', \n",
    "                  'louisiana', 'new jersey', 'wisconsin', 'nevada', 'connecticut', 'missouri', \n",
    "                  'tennessee', 'idaho']\n",
    "state_codes = [0, 1, 1, 1, 1, 1, 1, 1, 1, 1, 1, 1, 1, 1, 1, 1, 1, 1, 1, 1, 1, 1, 1, 1, 1, 1, 1, 1, 1, 1, 1, 1, 1, 1]\n",
    "\n",
    "list_unique_states = list(df.State.value_counts().to_dict().keys())\n",
    "state_code_dict = {}\n",
    "\n",
    "for index in range(len(list_unique_states)):\n",
    "    state_code_dict.setdefault(list_unique_states[index], 2)\n",
    "for i in range(len(states_to_code)):\n",
    "    if states_to_code[i] in state_code_dict.keys():\n",
    "        state_code_dict[states_to_code[i]] = state_codes[i]\n",
    "print(state_code_dict)"
   ]
  },
  {
   "cell_type": "markdown",
   "id": "0047928c",
   "metadata": {},
   "source": [
    "## City codes"
   ]
  },
  {
   "cell_type": "code",
   "execution_count": 17,
   "id": "51b83229",
   "metadata": {},
   "outputs": [],
   "source": [
    "City_List = []\n",
    "for i in list(df.index.values):\n",
    "    city = str(list(df.loc[i][[\"location\"]])[0]).split(\",\")[0]\n",
    "    city = city.strip(\" \")\n",
    "    City_List.append(city)\n",
    "City_Arr = np.array(City_List)\n",
    "df = df.join(pd.DataFrame(data = City_Arr).rename(columns = { 0 : 'City'}))"
   ]
  },
  {
   "cell_type": "code",
   "execution_count": 18,
   "id": "22c93b6e",
   "metadata": {},
   "outputs": [
    {
     "data": {
      "text/plain": [
       "City         \n",
       "san francisco    31064\n",
       "oakland           7214\n",
       "berkeley          4212\n",
       "san mateo         1331\n",
       "palo alto         1064\n",
       "dtype: int64"
      ]
     },
     "execution_count": 18,
     "metadata": {},
     "output_type": "execute_result"
    }
   ],
   "source": [
    "df[[\"City\"]].value_counts().head(5)"
   ]
  },
  {
   "cell_type": "markdown",
   "id": "83b1137f",
   "metadata": {},
   "source": [
    "san francisco : 0\n",
    "\n",
    "oakland : 1\n",
    "\n",
    "berkeley : 2\n",
    "\n",
    "san mateo : 3\n",
    "\n",
    "palo alto : 4\n",
    "\n",
    "other : 5\n"
   ]
  },
  {
   "cell_type": "code",
   "execution_count": 19,
   "id": "9e25318a",
   "metadata": {},
   "outputs": [
    {
     "name": "stdout",
     "output_type": "stream",
     "text": [
      "{'san francisco': 0, 'oakland': 1, 'berkeley': 2, 'san mateo': 3, 'palo alto': 4, 'alameda': 5, 'san rafael': 5, 'hayward': 5, 'emeryville': 5, 'redwood city': 5, 'daly city': 5, 'san leandro': 5, 'walnut creek': 5, 'vallejo': 5, 'menlo park': 5, 'richmond': 5, 'south san francisco': 0, 'mountain view': 5, 'novato': 5, 'burlingame': 5, 'pleasant hill': 5, 'castro valley': 5, 'stanford': 5, 'el cerrito': 5, 'pacifica': 5, 'martinez': 5, 'mill valley': 5, 'san bruno': 5, 'san pablo': 5, 'belmont': 5, 'albany': 5, 'san carlos': 5, 'benicia': 5, 'lafayette': 5, 'sausalito': 5, 'millbrae': 5, 'san anselmo': 5, 'el sobrante': 5, 'san lorenzo': 5, 'fairfax': 5, 'hercules': 5, 'pinole': 5, 'half moon bay': 5, 'fremont': 5, 'green brae': 5, 'orinda': 5, 'moraga': 5, 'larkspur': 5, 'corte madera': 5, 'belvedere tiburon': 5, 'atherton': 5, 'brisbane': 5, 'rodeo': 5, 'crockett': 5, 'el granada': 5, 'foster city': 5, 'kentfield': 5, 'woodacre': 5, 'east palo alto': 5, 'ross': 5, 'piedmont': 5, 'montara': 5, 'westlake': 5, 'woodside': 5, 'new york': 5, 'los angeles': 5, 'lagunitas': 5, 'san geronimo': 5, 'moss beach': 5, 'bolinas': 5, 'point richmond': 5, 'colma': 5, 'west oakland': 5, 'san diego': 5, 'chicago': 5, 'tiburon': 5, 'santa cruz': 5, 'portland': 5, 'stinson beach': 5, 'hillsborough': 5, 'brooklyn': 5, 'bayshore': 5, 'santa monica': 5, 'nicasio': 5, 'petaluma': 5, 'long beach': 5, 'irvine': 5, 'madrid': 5, 'san jose': 5, 'los gatos': 5, 'minneapolis': 5, 'redwood shores': 5, 'atlanta': 5, 'tucson': 5, 'forest knolls': 5, 'santa rosa': 5, 'napa': 5, 'san quentin': 5, 'washington': 5, 'woodbridge': 5, 'kensington': 5, 'salt lake city': 5, 'boston': 5, 'sacramento': 5, 'studio city': 5, 'kula': 5, 'chico': 5, 'oakley': 5, 'pasadena': 5, 'orange': 5, 'cambridge': 5, 'las vegas': 5, 'glencove': 5, 'riverside': 5, 'ashland': 5, 'providence': 5, 'hacienda heights': 5, 'vacaville': 5, 'new orleans': 5, 'bellingham': 5, 'cork': 5, 'nha trang': 5, 'leander': 5, 'bonaduz': 5, 'kansas city': 5, 'muir beach': 5, 'austin': 5, 'brea': 5, 'pacheco': 5, 'crowley': 5, 'honolulu': 5, 'granite bay': 5, 'miami': 5, 'rochester': 5, 'fayetteville': 5, 'nevada city': 5, 'san antonio': 5, 'santa ana': 5, 'olema': 5, 'hilarita': 5, 'london': 5, 'rohnert park': 5, 'concord': 5, 'denver': 5, 'south orange': 5, 'freedom': 5, 'phoenix': 5, 'longwood': 5, 'vancouver': 5, 'arcadia': 5, 'stratford': 5, 'edinburgh': 5, 'san luis obispo': 5, 'santa clara': 5, 'port costa': 5, 'campbell': 5, 'magalia': 5, 'peoria': 5, 'boulder': 5, 'asheville': 5, 'kassel': 5, 'boise': 5, 'costa mesa': 5, 'ozone park': 5, 'columbus': 5, 'seattle': 5, 'stockton': 5, 'sunnyvale': 5, 'jackson': 5, 'lake orion': 5, 'canyon': 5, 'waterford': 5, 'astoria': 5, 'livingston': 5, 'oceanview': 5, 'milwaukee': 5, 'seaside': 5, 'modesto': 5, 'milpitas': 5, 'south wellfleet': 5, 'isla vista': 5, 'marin city': 5, 'taunton': 5, 'guadalajara': 5, 'murfreesboro': 5, 'north hollywood': 5, 'fort lauderdale': 5, 'utica': 5, 'islip terrace': 5, 'union city': 5, 'cincinnati': 5, 'bellwood': 5, 'canyon country': 5, 'south lake tahoe': 5, 'grand rapids': 5, 'billings': 5, 'philadelphia': 5, 'amsterdam': 5}\n"
     ]
    }
   ],
   "source": [
    "cities_to_code = ['san francisco', 'south san francisco', 'oakland', 'berkeley', 'san mateo', 'palo alto']\n",
    "cities_codes = [0, 0, 1, 2, 3, 4]\n",
    "list_unique_cities = list(df.City.value_counts().to_dict().keys())\n",
    "city_code_dict = {}\n",
    "\n",
    "for index in range(len(list_unique_cities)):\n",
    "    city_code_dict.setdefault(list_unique_cities[index], 5)\n",
    "for i in range(len(cities_to_code)):\n",
    "    if cities_to_code[i] in city_code_dict.keys():\n",
    "        city_code_dict[cities_to_code[i]] = cities_codes[i]\n",
    "print(city_code_dict)"
   ]
  },
  {
   "cell_type": "markdown",
   "id": "652f903b",
   "metadata": {},
   "source": [
    "## Job codes"
   ]
  },
  {
   "cell_type": "code",
   "execution_count": 20,
   "id": "c4d6028d",
   "metadata": {},
   "outputs": [],
   "source": [
    "job_code_dict = {\n",
    "     np.nan : np.nan,\n",
    "    'transportation' : 0, \n",
    "    'hospitality / travel' : 1,  \n",
    "    'student' : 2,\n",
    "    'artistic / musical / writer' : 3,\n",
    "    'computer / hardware / software' : 4,\n",
    "    'banking / financial / real estate' : 5,\n",
    "    'entertainment / media' : 6,\n",
    "    'sales / marketing / biz dev' : 7, \n",
    "    'medicine / health' : 8,\n",
    "    'science / tech / engineering' : 9, \n",
    "    'executive / management' : 10,\n",
    "    'education / academia' : 11, \n",
    "    'clerical / administrative' : 12,\n",
    "    'construction / craftsmanship' : 13, \n",
    "    'political / government' : 14,\n",
    "    'law / legal services' : 15, \n",
    "    'military' : 16,\n",
    "    'unemployed' : 17,\n",
    "    'retired' : 18,\n",
    "    'rather not say' : 19,\n",
    "    'other' :20\n",
    "}"
   ]
  },
  {
   "cell_type": "markdown",
   "id": "546277ea",
   "metadata": {},
   "source": [
    "## Ethnicity Codes"
   ]
  },
  {
   "cell_type": "markdown",
   "id": "9f4a680b",
   "metadata": {},
   "source": [
    "'White' = 0\n",
    "'Black or African American' = 1\n",
    "'Asian white' = 2\n",
    "'Asian black' = 3\n",
    "'Hispanic or latino' = 4\n",
    "'Pacific Islander'= 5\n",
    "'Other' = 6"
   ]
  },
  {
   "cell_type": "code",
   "execution_count": 21,
   "id": "0d9382ef",
   "metadata": {},
   "outputs": [],
   "source": [
    "ethinicity_code_dict = {\n",
    "         np.nan : np.nan,\n",
    "        'asian, white' : 2, \n",
    "        'white' : 0,\n",
    "        'asian, black, other' : 3,\n",
    "        'white, other' : 0,\n",
    "        'hispanic / latin, white' : 4, \n",
    "        'hispanic / latin' : 4,\n",
    "        'pacific islander, white' : 5,\n",
    "        'asian' : 2,\n",
    "        'black, white' : 6,\n",
    "        'pacific islander' : 5,\n",
    "        'asian, native american' : 2,\n",
    "        'asian, pacific islander' : 5,\n",
    "        'black, native american, white' : 6,\n",
    "        'middle eastern, other' : 6,\n",
    "        'native american, white' : 0,\n",
    "        'indian' : 3,\n",
    "        'black' : 1,\n",
    "        'black, native american, hispanic / latin, other' : 4,\n",
    "        'black, native american, hispanic / latin' : 4,\n",
    "        'asian, black, pacific islander' : 5,\n",
    "        'asian, middle eastern, black, native american, indian, pacific islander, hispanic / latin, white, other' : 6,\n",
    "        'other' : 6,\n",
    "        'hispanic / latin, other' : 4, \n",
    "        'asian, black' : 3,\n",
    "        'middle eastern, white' : 2,\n",
    "        'native american, white, other' : 0,\n",
    "        'black, native american' : 1,\n",
    "        'black, white, other' : 6,\n",
    "        'hispanic / latin, white, other' : 4, \n",
    "        'middle eastern' : 2, \n",
    "        'black, other' : 6,\n",
    "        'native american, hispanic / latin, white' : 4,\n",
    "        'black, indian' : 3,\n",
    "        'indian, white, other' : 3,\n",
    "        'middle eastern, indian, other' : 3,\n",
    "        'black, native american, hispanic / latin, white, other' : 6,\n",
    "        'pacific islander, hispanic / latin' : 6,\n",
    "        'black, hispanic / latin, white' : 6, \n",
    "        'native american' : 0,\n",
    "        'indian, white' : 3,\n",
    "        'asian, white, other' : 2,\n",
    "        'black, hispanic / latin' : 4,\n",
    "        'asian, hispanic / latin, white' : 3,\n",
    "        'middle eastern, hispanic / latin' : 3,\n",
    "        'asian, black, native american, pacific islander, white' : 3,\n",
    "        'middle eastern, indian' : 3,\n",
    "        'asian, indian' : 3,\n",
    "        'pacific islander, other' : 5,\n",
    "        'black, native american, white, other' : 6,\n",
    "        'black, pacific islander' : 5,\n",
    "        'middle eastern, native american, white' : 0,\n",
    "        'asian, native american, white, other' : 2,\n",
    "        'pacific islander, hispanic / latin, white' : 5, \n",
    "        'indian, other' : 3,\n",
    "        'asian, pacific islander, other' : 5,    \n",
    "        'black, hispanic / latin, other' : 4,\n",
    "        'asian, black, native american' : 3,\n",
    "        'black, native american, hispanic / latin, white' : 6,\n",
    "        'native american, hispanic / latin' : 4, \n",
    "        'indian, hispanic / latin' : 6,\n",
    "        'native american, pacific islander' : 5,\n",
    "        'asian, black, native american, hispanic / latin, white' : 6,\n",
    "        'asian, black, white' : 6,\n",
    "        'asian, black, native american, pacific islander, other' : 6,\n",
    "        'middle eastern, hispanic / latin, white' : 6,\n",
    "        'asian, pacific islander, white' : 5,\n",
    "        'asian, native american, hispanic / latin, white, other' : 6,\n",
    "        'asian, hispanic / latin' : 6,\n",
    "        'asian, pacific islander, white, other' : 5,\n",
    "        'middle eastern, white, other' : 2,\n",
    "        'asian, pacific islander, hispanic / latin' : 6,\n",
    "        'black, native american, indian, other' : 6,\n",
    "        'native american, hispanic / latin, white, other' : 6,\n",
    "        'black, native american, other' : 6, \n",
    "        'asian, other' : 6,\n",
    "        'middle eastern, hispanic / latin, other' : 6,\n",
    "        'pacific islander, hispanic / latin, white, other' : 6,\n",
    "        'asian, black, hispanic / latin' : 6,\n",
    "        'asian, pacific islander, hispanic / latin, white' : 6,\n",
    "        'asian, black, native american, white' : 3,\n",
    "        'asian, middle eastern, white, other' : 2,\n",
    "        'native american, pacific islander, hispanic / latin' : 6,\n",
    "        'asian, native american, white' : 2,\n",
    "        'native american, pacific islander, hispanic / latin, white, other' : 6,\n",
    "        'indian, pacific islander' : 3, \n",
    "        'asian, middle eastern, black' : 3,\n",
    "        'asian, middle eastern, indian' : 3,\n",
    "        'asian, middle eastern, white' : 2,\n",
    "        'pacific islander, white, other' : 5,\n",
    "        'black, pacific islander, hispanic / latin' : 5,\n",
    "        'asian, middle eastern' : 2, \n",
    "        'asian, hispanic / latin, other' : 6,\n",
    "        'middle eastern, black, native american, indian, white, other' : 6,\n",
    "        'middle eastern, pacific islander, other' : 6,\n",
    "        'middle eastern, black' : 3,\n",
    "        'asian, indian, pacific islander' : 3,\n",
    "        'black, native american, pacific islander' : 5,\n",
    "        'native american, indian' : 3,\n",
    "        'asian, middle eastern, black, native american, indian, pacific islander, hispanic / latin, white' : 6,\n",
    "        'black, indian, other' : 3,\n",
    "        'asian, middle eastern, indian, hispanic / latin, white, other' : 6,\n",
    "        'middle eastern, black, white': 3,\n",
    "        'asian, hispanic / latin, white, other' : 6,\n",
    "        'native american, hispanic / latin, other' : 4,\n",
    "        'middle eastern, black, pacific islander, white' : 3,\n",
    "        'asian, black, native american, hispanic / latin' : 6,\n",
    "        'native american, other' : 0, \n",
    "        'black, indian, white' : 6,\n",
    "        'asian, native american, hispanic / latin, white' : 6,\n",
    "        'black, native american, indian, white' : 6,\n",
    "        'middle eastern, black, indian, pacific islander, hispanic / latin, white' : 6,\n",
    "        'middle eastern, hispanic / latin, white, other' : 6, \n",
    "        'asian, black, native american, other' : 3,\n",
    "        'native american, pacific islander, hispanic / latin, white' : 6,\n",
    "        'asian, indian, other' : 3,\n",
    "        'middle eastern, native american, hispanic / latin, white, other' : 6,\n",
    "        'asian, middle eastern, black, pacific islander, hispanic / latin, white' : 6,\n",
    "        'black, native american, pacific islander, hispanic / latin, white, other' : 6,\n",
    "        'asian, middle eastern, native american, hispanic / latin, white' : 6,\n",
    "        'asian, middle eastern, black, native american, pacific islander, hispanic / latin, white, other': 6,\n",
    "        'asian, indian, white' : 3,\n",
    "        'native american, pacific islander, white, other' : 5,\n",
    "        'middle eastern, black, native american, indian, pacific islander, hispanic / latin, white' : 6,\n",
    "        'asian, middle eastern, other' : 2, \n",
    "        'middle eastern, pacific islander' : 3,\n",
    "        'asian, black, hispanic / latin, other' : 6,\n",
    "        'asian, middle eastern, black, native american, hispanic / latin, white' : 6,\n",
    "        'middle eastern, black, hispanic / latin' : 6,\n",
    "        'black, pacific islander, white' : 5,\n",
    "        'asian, middle eastern, black, native american, indian, pacific islander, hispanic / latin, other' : 6,    \n",
    "        'middle eastern, black, native american, indian, hispanic / latin, white' : 6,\n",
    "        'asian, pacific islander, hispanic / latin, white, other' : 6,\n",
    "        'middle eastern, indian, white' : 3, \n",
    "        'asian, indian, white, other' : 3,\n",
    "        'middle eastern, black, native american, white, other' : 3,\n",
    "        'black, native american, pacific islander, other' : 5,\n",
    "        'middle eastern, black, native american, white' : 3,\n",
    "        'asian, indian, pacific islander, other' : 3,\n",
    "        'asian, black, native american, white, other' : 3,\n",
    "        'black, indian, hispanic / latin, white' : 6,\n",
    "        'asian, middle eastern, black, native american, indian, pacific islander, white' : 3,\n",
    "        'asian, black, pacific islander, hispanic / latin' : 6,\n",
    "        'middle eastern, black, native american, indian, pacific islander, hispanic / latin, white, other' : 6,\n",
    "        'asian, black, native american, indian' : 3,\n",
    "        'asian, black, indian, hispanic / latin, other' : 6,\n",
    "        'indian, hispanic / latin, other' : 6,\n",
    "        'asian, indian, hispanic / latin' : 6,\n",
    "        'asian, native american, pacific islander, white, other' : 5,\n",
    "        'asian, black, native american, indian, hispanic / latin, white, other' : 6,\n",
    "        'asian, indian, hispanic / latin, white' : 6,\n",
    "        'pacific islander, hispanic / latin, other' : 6,\n",
    "        'asian, indian, pacific islander, hispanic / latin, white, other' : 6,\n",
    "        'indian, hispanic / latin, white' : 6,\n",
    "        'asian, native american, pacific islander, hispanic / latin, white, other' : 6,\n",
    "        'asian, pacific islander, hispanic / latin, other' : 6,\n",
    "        'asian, black, hispanic / latin, white, other' : 6,\n",
    "        'black, indian, hispanic / latin' : 6,\n",
    "        'middle eastern, black, native american, hispanic / latin, white' : 6,\n",
    "        'black, pacific islander, other' : 5,\n",
    "        'black, native american, pacific islander, white' : 5,\n",
    "        'asian, black, native american, pacific islander' : 3,\n",
    "        'asian, indian, hispanic / latin, other' : 6,\n",
    "        'middle eastern, native american' : 0,\n",
    "        'middle eastern, native american, hispanic / latin' : 6,\n",
    "        'black, hispanic / latin, white, other' : 4,\n",
    "        'asian, native american, pacific islander, hispanic / latin, white' : 6,\n",
    "        'asian, native american, hispanic / latin' : 6,\n",
    "        'black, native american, indian, hispanic / latin, white, other' : 6,\n",
    "        'asian, middle eastern, hispanic / latin, white' : 6,\n",
    "        'black, native american, pacific islander, white, other' : 5,\n",
    "        'native american, indian, pacific islander, hispanic / latin' : 6,\n",
    "        'black, indian, white, other' : 6,\n",
    "        'asian, middle eastern, native american, pacific islander, hispanic / latin, white, other' : 6,\n",
    "        'native american, pacific islander, white' : 5,\n",
    "        'middle eastern, indian, white, other' : 3,\n",
    "        'asian, black, white, other' : 6,\n",
    "        'middle eastern, native american, hispanic / latin, white' : 6,\n",
    "        'indian, hispanic / latin, white, other' : 6,\n",
    "        'asian, middle eastern, black, pacific islander' : 3,\n",
    "        'asian, middle eastern, black, indian, pacific islander, hispanic / latin, white' : 6,\n",
    "        'asian, middle eastern, indian, other' : 3,\n",
    "        'asian, middle eastern, black, white, other' : 3,\n",
    "        'black, native american, pacific islander, hispanic / latin, white' : 6,\n",
    "        'black, native american, indian, pacific islander, hispanic / latin' : 6,\n",
    "        'asian, black, pacific islander, white' : 5,\n",
    "        'middle eastern, pacific islander, hispanic / latin' : 6,\n",
    "        'black, native american, indian, white, other' : 6,\n",
    "        'asian, black, hispanic / latin, white' : 6,\n",
    "        'asian, black, native american, indian, pacific islander, white' : 3,\n",
    "        'asian, black, native american, indian, pacific islander, hispanic / latin' : 6,\n",
    "        'asian, middle eastern, hispanic / latin, white, other' : 6,\n",
    "        'middle eastern, black, native american, indian' : 3,\n",
    "        'asian, native american, pacific islander' : 5,\n",
    "        'asian, black, native american, pacific islander, white, other' : 6,\n",
    "        'asian, middle eastern, hispanic / latin' : 6,\n",
    "        'asian, black, pacific islander, other' : 5,\n",
    "        'asian, native american, indian, pacific islander, hispanic / latin, white' : 6,\n",
    "        'middle eastern, native american, white, other' : 2,\n",
    "        'asian, native american, hispanic / latin, other' :6,\n",
    "        'native american, indian, white' : 3,\n",
    "        'black, native american, pacific islander, hispanic / latin' : 6,\n",
    "        'asian, native american, pacific islander, white' : 5,\n",
    "        'black, native american, indian' : 3,\n",
    "        'indian, pacific islander, hispanic / latin, white' : 6,\n",
    "        'asian, middle eastern, black, native american, indian, pacific islander, hispanic / latin' : 6,\n",
    "        'asian, middle eastern, indian, hispanic / latin' : 6,\n",
    "        'asian, middle eastern, native american, pacific islander, other' : 5,\n",
    "        'black, native american, indian, pacific islander' : 3,\n",
    "        'asian, middle eastern, native american, pacific islander, white, other' : 5,\n",
    "        'asian, native american, other' : 2, \n",
    "        'middle eastern, black, other' : 3,\n",
    "        'asian, black, pacific islander, hispanic / latin, white' : 6,\n",
    "        'asian, middle eastern, native american, indian, pacific islander, hispanic / latin, white' : 6,\n",
    "        'asian, native american, indian, pacific islander, hispanic / latin, white, other' : 6,\n",
    "        'asian, middle eastern, black, pacific islander, hispanic / latin' : 6,\n",
    "        'asian, black, pacific islander, white, other' : 5,\n",
    "        'asian, black, indian' : 3\n",
    "    }"
   ]
  },
  {
   "cell_type": "markdown",
   "id": "8c07b30a",
   "metadata": {},
   "source": [
    "# diet codes\n",
    "\n",
    "        'anything'\n",
    "        'mostly anything' \n",
    "        'strictly anything'\n",
    "        'other' \n",
    "        'mostly other'  \n",
    "        'strictly other\n",
    "        'vegetarian'\n",
    "        'mostly vegetarian' \n",
    "        'strictly vegetarian'\n",
    "        'vegan' \n",
    "        'mostly vegan', \n",
    "        'strictly vegan'\n",
    "        'halal'\n",
    "        'mostly halal'\n",
    "        'strictly halal' \n",
    "        'kosher\n",
    "        'mostly kosher'\n",
    "        'strictly kosher'"
   ]
  },
  {
   "cell_type": "markdown",
   "id": "3d197fda",
   "metadata": {},
   "source": [
    "# Orientation"
   ]
  },
  {
   "cell_type": "code",
   "execution_count": 22,
   "id": "883722c1",
   "metadata": {},
   "outputs": [],
   "source": [
    "orient_code_dict = {\n",
    "    'straight' : 0,\n",
    "    'gay' : 1,\n",
    "    'bisexual' : 2\n",
    "                }"
   ]
  },
  {
   "cell_type": "markdown",
   "id": "733759aa",
   "metadata": {},
   "source": [
    "# Diet"
   ]
  },
  {
   "cell_type": "code",
   "execution_count": 23,
   "id": "eb35d9e5",
   "metadata": {},
   "outputs": [],
   "source": [
    "diet_code_dict = {\n",
    "         np.nan : np.nan,\n",
    "        'anything' : 0,\n",
    "        'mostly anything' : 1,\n",
    "        'strictly anything' : 2,\n",
    "        'other' : 3,\n",
    "        'mostly other' : 4,\n",
    "        'strictly other' : 5,\n",
    "        'vegetarian' : 6,\n",
    "        'mostly vegetarian' : 7,\n",
    "        'strictly vegetarian' : 8,\n",
    "        'vegan' : 9,\n",
    "        'mostly vegan' : 10, \n",
    "        'strictly vegan' :11,\n",
    "        'halal' : 12,\n",
    "        'mostly halal' : 13,\n",
    "        'strictly halal' : 14,\n",
    "        'kosher' : 15,\n",
    "        'mostly kosher' : 16,\n",
    "        'strictly kosher' : 17\n",
    "}"
   ]
  },
  {
   "cell_type": "markdown",
   "id": "fad856fc",
   "metadata": {},
   "source": [
    "# drugs codes:\n",
    "    'never' : 0, \n",
    "    'sometimes' : 1, \n",
    "    'often' :2"
   ]
  },
  {
   "cell_type": "code",
   "execution_count": 24,
   "id": "2405e56c",
   "metadata": {},
   "outputs": [],
   "source": [
    "drugs_code_dict = {\n",
    "    np.nan : np.nan,\n",
    "    'never' : 0, \n",
    "    'sometimes' : 1, \n",
    "    'often' : 2    \n",
    "}"
   ]
  },
  {
   "cell_type": "markdown",
   "id": "cb8ffd1c",
   "metadata": {},
   "source": [
    "# drinks codes:\n",
    "\n",
    "    'not at all' : 0\n",
    "    'rarely' : 1\n",
    "    'socially' : 2 \n",
    "    'often' : 3\n",
    "    'very often' : 4\n",
    "    'desperately' : 5"
   ]
  },
  {
   "cell_type": "code",
   "execution_count": 25,
   "id": "a5b8c1c7",
   "metadata": {},
   "outputs": [],
   "source": [
    "drinks_code_dict = {\n",
    "    np.nan : np.nan,\n",
    "    'not at all' : 0,\n",
    "    'rarely' : 1,\n",
    "    'socially' : 2, \n",
    "    'often' : 3,\n",
    "    'very often' : 4,\n",
    "    'desperately' : 5\n",
    "}"
   ]
  },
  {
   "cell_type": "markdown",
   "id": "aebc6247",
   "metadata": {},
   "source": [
    " # smokes codes:\n",
    "    'sometimes' : 2\n",
    "    'no' : 0\n",
    "    'when drinking': 1\n",
    "    'yes' : 4\n",
    "    'trying to quit' : 3"
   ]
  },
  {
   "cell_type": "code",
   "execution_count": 26,
   "id": "d617786c",
   "metadata": {},
   "outputs": [],
   "source": [
    "smokes_code_dict = {\n",
    "    np.nan : np.nan,\n",
    "    'no' : 0,\n",
    "    'when drinking': 1,\n",
    "    'sometimes' : 2,\n",
    "    'trying to quit' : 3,\n",
    "    'yes' : 4    \n",
    "}"
   ]
  },
  {
   "cell_type": "markdown",
   "id": "9dbc79a9",
   "metadata": {},
   "source": [
    "## education codes:\n",
    "\n",
    "    elementary: 1\n",
    "    secondary: 2\n",
    "    post-secondary: 3\n",
    "    PhD: 4"
   ]
  },
  {
   "cell_type": "code",
   "execution_count": 27,
   "id": "1ac3ee8d",
   "metadata": {},
   "outputs": [],
   "source": [
    "education_code_dict = {\n",
    "     np.nan : np.nan,\n",
    "     'working on college/university' : 2,\n",
    "     'working on space camp' : 1,\n",
    "     'graduated from masters program' : 3,\n",
    "     'graduated from college/university' : 3,\n",
    "     'working on two-year college' : 2,\n",
    "     'graduated from high school' : 2,\n",
    "     'working on masters program' : 2,\n",
    "     'graduated from space camp' : 2,\n",
    "     'college/university' : 3,\n",
    "     'dropped out of space camp' : 1,\n",
    "     'graduated from ph.d program' : 4,\n",
    "     'graduated from law school' : 3,\n",
    "     'working on ph.d program' : 3,\n",
    "     'two-year college' : 3,\n",
    "     'graduated from two-year college' : 3,\n",
    "     'working on med school' : 2,\n",
    "     'dropped out of college/university' : 2,\n",
    "     'space camp' : 2,\n",
    "     'graduated from med school' : 3,\n",
    "     'dropped out of high school' : 1,\n",
    "     'working on high school' : 1,\n",
    "     'masters program' : 3,\n",
    "     'dropped out of ph.d program' : 3,\n",
    "     'dropped out of two-year college' : 2,\n",
    "     'dropped out of med school' : 2,\n",
    "     'high school' : 2,\n",
    "     'working on law school' : 2,\n",
    "     'law school' : 3,\n",
    "     'dropped out of masters program' : 2,\n",
    "     'ph.d program' : 4,\n",
    "     'dropped out of law school' : 2,\n",
    "     'med school' : 3\n",
    "    }"
   ]
  },
  {
   "cell_type": "markdown",
   "id": "2420d6d3",
   "metadata": {},
   "source": [
    "# Sex Codes"
   ]
  },
  {
   "cell_type": "code",
   "execution_count": 28,
   "id": "6a530d38",
   "metadata": {},
   "outputs": [],
   "source": [
    "sex_code_dict = {'m': 0, 'f': 1}"
   ]
  },
  {
   "cell_type": "markdown",
   "id": "90d98772",
   "metadata": {},
   "source": [
    "# Income Codes"
   ]
  },
  {
   "cell_type": "code",
   "execution_count": 29,
   "id": "9542d8bd",
   "metadata": {},
   "outputs": [
    {
     "data": {
      "text/plain": [
       "-1          48442\n",
       " 20000       2952\n",
       " 100000      1621\n",
       " 80000       1111\n",
       " 30000       1048\n",
       " 40000       1005\n",
       " 50000        975\n",
       " 60000        736\n",
       " 70000        707\n",
       " 150000       631\n",
       " 1000000      521\n",
       " 250000       149\n",
       " 500000        48\n",
       "Name: income, dtype: int64"
      ]
     },
     "execution_count": 29,
     "metadata": {},
     "output_type": "execute_result"
    }
   ],
   "source": [
    "df.income.value_counts()"
   ]
  },
  {
   "cell_type": "code",
   "execution_count": 30,
   "id": "b9b0d4c1",
   "metadata": {},
   "outputs": [],
   "source": [
    "income_code_dict = {\n",
    "       -1 : 0,\n",
    "    20000 : 1,\n",
    "    30000 : 1,\n",
    "    40000 : 1,\n",
    "    50000 : 1,\n",
    "    60000 : 2,\n",
    "    70000 : 2,\n",
    "    80000 : 2,\n",
    "   100000 : 2,\n",
    "   150000 : 3,\n",
    "   250000 : 3,\n",
    "   500000 : 3,\n",
    "  1000000 : 3\n",
    "}"
   ]
  },
  {
   "cell_type": "markdown",
   "id": "fad5d226",
   "metadata": {},
   "source": [
    "# Body Type"
   ]
  },
  {
   "cell_type": "code",
   "execution_count": 31,
   "id": "10593571",
   "metadata": {},
   "outputs": [],
   "source": [
    "body_code_dict = {\n",
    "     np.nan : np.nan,\n",
    "     'average'           : 6,\n",
    "     'fit'               : 3,\n",
    "     'athletic'          : 4,\n",
    "     'thin'              : 1,\n",
    "     'curvy'             : 8,\n",
    "     'a little extra'    : 0,\n",
    "     'skinny'            : 2,\n",
    "     'full figured'      : 9,\n",
    "     'overweight'        : 10,\n",
    "     'jacked'            : 5,\n",
    "     'used up'           : 7,\n",
    "     'rather not say'    : 11\n",
    "    }"
   ]
  },
  {
   "cell_type": "markdown",
   "id": "d3a52167",
   "metadata": {},
   "source": [
    "# Relationship to pets"
   ]
  },
  {
   "cell_type": "markdown",
   "id": "99d46b74",
   "metadata": {},
   "source": [
    "0 : like both cats and dogs\n",
    "\n",
    "1 : like dogs\n",
    "\n",
    "2 : like cats\n",
    "\n",
    "3 : dislike both cats and dogs"
   ]
  },
  {
   "cell_type": "code",
   "execution_count": 32,
   "id": "acc79d83",
   "metadata": {},
   "outputs": [],
   "source": [
    "pets_code_dict = {\n",
    "    np.nan : np.nan,\n",
    "    'likes dogs and likes cats' : 0,\n",
    "    'likes dogs' : 1,                         \n",
    "    'likes dogs and has cats' : 0,            \n",
    "    'has dogs' : 1,                           \n",
    "    'has dogs and likes cats' : 0,            \n",
    "    'likes dogs and dislikes cats' : 1,       \n",
    "    'has dogs and has cats' : 0,               \n",
    "    'has cats' : 2,                          \n",
    "    'likes cats' : 2,                         \n",
    "    'has dogs and dislikes cats' : 1,         \n",
    "    'dislikes dogs and likes cats' : 2,   \n",
    "    'dislikes dogs and dislikes cats' : 3,    \n",
    "    'dislikes cats' : 1,\n",
    "    'dislikes dogs and has cats' : 2,         \n",
    "    'dislikes dogs' : 2                      \n",
    "}"
   ]
  },
  {
   "cell_type": "markdown",
   "id": "0c7852cc",
   "metadata": {},
   "source": [
    "# Offspring"
   ]
  },
  {
   "cell_type": "markdown",
   "id": "01e9af52",
   "metadata": {},
   "source": [
    "doesn´t have a kids = 0,\n",
    "\n",
    "doesn´t have kinds and don´t want them = 1,\n",
    "\n",
    "doens´t have a kinds a want them = 2,\n",
    "\n",
    "have kinds = 3\n",
    "\n",
    "have kinds and do not want more = 4,\n",
    "\n",
    "have kinds/have kinds and want more = 5,\n",
    "\n",
    "\n",
    "\n",
    "\n",
    " "
   ]
  },
  {
   "cell_type": "code",
   "execution_count": 33,
   "id": "72c6fbfe",
   "metadata": {},
   "outputs": [],
   "source": [
    "offspring_code_dict = {\n",
    "    np.nan : np.nan,\n",
    "    'doesn&rsquo;t have kids' :  0,                       \n",
    "    'doesn&rsquo;t have kids, but might want them'  : 2,     \n",
    "    'doesn&rsquo;t have kids, but wants them' : 2,               \n",
    "    'doesn&rsquo;t want kids' : 1,                              \n",
    "    'has kids' : 3,                                            \n",
    "    'has a kid' : 3,                                            \n",
    "    'doesn&rsquo;t have kids, and doesn&rsquo;t want any' : 1, \n",
    "    'has kids, but doesn&rsquo;t want more' : 4,                \n",
    "    'has a kid, but doesn&rsquo;t want more' : 4,               \n",
    "    'has a kid, and might want more'   : 5,                    \n",
    "    'wants kids' : 2,                                           \n",
    "    'might want kids' : 2,                                        \n",
    "    'has kids, and might want more' : 5,                        \n",
    "    'has a kid, and wants more' : 5,                            \n",
    "    'has kids, and wants more' : 5\n",
    "    }"
   ]
  },
  {
   "cell_type": "markdown",
   "id": "21353f56",
   "metadata": {},
   "source": [
    "# Data cleaning and replacement of categorical data"
   ]
  },
  {
   "cell_type": "markdown",
   "id": "cc2ec37b",
   "metadata": {},
   "source": [
    "## Columns of zodiac sign and religion are cleaned"
   ]
  },
  {
   "cell_type": "code",
   "execution_count": 34,
   "id": "52f446d2",
   "metadata": {},
   "outputs": [],
   "source": [
    "cols_to_clear = [\"religion\", \"sign\"]\n",
    "          \n",
    "def clear_columns(dataframe, cols_list: list):\n",
    "    for col in cols_list:\n",
    "        new_column = str(col)+\"_clear\"\n",
    "        dataframe[new_column] = dataframe.apply(lambda row: str(row[col]).split()[0], axis = 1)\n",
    "    return dataframe"
   ]
  },
  {
   "cell_type": "code",
   "execution_count": 35,
   "id": "74f18e80",
   "metadata": {},
   "outputs": [
    {
     "data": {
      "text/html": [
       "<div>\n",
       "<style scoped>\n",
       "    .dataframe tbody tr th:only-of-type {\n",
       "        vertical-align: middle;\n",
       "    }\n",
       "\n",
       "    .dataframe tbody tr th {\n",
       "        vertical-align: top;\n",
       "    }\n",
       "\n",
       "    .dataframe thead th {\n",
       "        text-align: right;\n",
       "    }\n",
       "</style>\n",
       "<table border=\"1\" class=\"dataframe\">\n",
       "  <thead>\n",
       "    <tr style=\"text-align: right;\">\n",
       "      <th></th>\n",
       "      <th>age</th>\n",
       "      <th>body_type</th>\n",
       "      <th>diet</th>\n",
       "      <th>drinks</th>\n",
       "      <th>drugs</th>\n",
       "      <th>education</th>\n",
       "      <th>essay0</th>\n",
       "      <th>essay1</th>\n",
       "      <th>essay2</th>\n",
       "      <th>essay3</th>\n",
       "      <th>...</th>\n",
       "      <th>sign</th>\n",
       "      <th>smokes</th>\n",
       "      <th>speaks</th>\n",
       "      <th>status</th>\n",
       "      <th>Num_Langs_Fluently</th>\n",
       "      <th>Num_Langs_Okay</th>\n",
       "      <th>State</th>\n",
       "      <th>City</th>\n",
       "      <th>religion_clear</th>\n",
       "      <th>sign_clear</th>\n",
       "    </tr>\n",
       "  </thead>\n",
       "  <tbody>\n",
       "    <tr>\n",
       "      <th>0</th>\n",
       "      <td>22</td>\n",
       "      <td>a little extra</td>\n",
       "      <td>strictly anything</td>\n",
       "      <td>socially</td>\n",
       "      <td>never</td>\n",
       "      <td>working on college/university</td>\n",
       "      <td>about me:&lt;br /&gt;\\r\\n&lt;br /&gt;\\r\\ni would love to t...</td>\n",
       "      <td>currently working as an international agent fo...</td>\n",
       "      <td>making people laugh.&lt;br /&gt;\\r\\nranting about a ...</td>\n",
       "      <td>the way i look. i am a six foot half asian, ha...</td>\n",
       "      <td>...</td>\n",
       "      <td>gemini</td>\n",
       "      <td>sometimes</td>\n",
       "      <td>english</td>\n",
       "      <td>single</td>\n",
       "      <td>0</td>\n",
       "      <td>0</td>\n",
       "      <td>california</td>\n",
       "      <td>south san francisco</td>\n",
       "      <td>agnosticism</td>\n",
       "      <td>gemini</td>\n",
       "    </tr>\n",
       "    <tr>\n",
       "      <th>1</th>\n",
       "      <td>35</td>\n",
       "      <td>average</td>\n",
       "      <td>mostly other</td>\n",
       "      <td>often</td>\n",
       "      <td>sometimes</td>\n",
       "      <td>working on space camp</td>\n",
       "      <td>i am a chef: this is what that means.&lt;br /&gt;\\r\\...</td>\n",
       "      <td>dedicating everyday to being an unbelievable b...</td>\n",
       "      <td>being silly. having ridiculous amonts of fun w...</td>\n",
       "      <td>NaN</td>\n",
       "      <td>...</td>\n",
       "      <td>cancer</td>\n",
       "      <td>no</td>\n",
       "      <td>english (fluently), spanish (poorly), french (...</td>\n",
       "      <td>single</td>\n",
       "      <td>0</td>\n",
       "      <td>0</td>\n",
       "      <td>california</td>\n",
       "      <td>oakland</td>\n",
       "      <td>agnosticism</td>\n",
       "      <td>cancer</td>\n",
       "    </tr>\n",
       "    <tr>\n",
       "      <th>2</th>\n",
       "      <td>38</td>\n",
       "      <td>thin</td>\n",
       "      <td>anything</td>\n",
       "      <td>socially</td>\n",
       "      <td>NaN</td>\n",
       "      <td>graduated from masters program</td>\n",
       "      <td>i'm not ashamed of much, but writing public te...</td>\n",
       "      <td>i make nerdy software for musicians, artists, ...</td>\n",
       "      <td>improvising in different contexts. alternating...</td>\n",
       "      <td>my large jaw and large glasses are the physica...</td>\n",
       "      <td>...</td>\n",
       "      <td>pisces but it doesn&amp;rsquo;t matter</td>\n",
       "      <td>no</td>\n",
       "      <td>english, french, c++</td>\n",
       "      <td>available</td>\n",
       "      <td>0</td>\n",
       "      <td>0</td>\n",
       "      <td>california</td>\n",
       "      <td>san francisco</td>\n",
       "      <td>nan</td>\n",
       "      <td>pisces</td>\n",
       "    </tr>\n",
       "  </tbody>\n",
       "</table>\n",
       "<p>3 rows × 37 columns</p>\n",
       "</div>"
      ],
      "text/plain": [
       "   age       body_type               diet    drinks      drugs  \\\n",
       "0   22  a little extra  strictly anything  socially      never   \n",
       "1   35         average       mostly other     often  sometimes   \n",
       "2   38            thin           anything  socially        NaN   \n",
       "\n",
       "                        education  \\\n",
       "0   working on college/university   \n",
       "1           working on space camp   \n",
       "2  graduated from masters program   \n",
       "\n",
       "                                              essay0  \\\n",
       "0  about me:<br />\\r\\n<br />\\r\\ni would love to t...   \n",
       "1  i am a chef: this is what that means.<br />\\r\\...   \n",
       "2  i'm not ashamed of much, but writing public te...   \n",
       "\n",
       "                                              essay1  \\\n",
       "0  currently working as an international agent fo...   \n",
       "1  dedicating everyday to being an unbelievable b...   \n",
       "2  i make nerdy software for musicians, artists, ...   \n",
       "\n",
       "                                              essay2  \\\n",
       "0  making people laugh.<br />\\r\\nranting about a ...   \n",
       "1  being silly. having ridiculous amonts of fun w...   \n",
       "2  improvising in different contexts. alternating...   \n",
       "\n",
       "                                              essay3  ...  \\\n",
       "0  the way i look. i am a six foot half asian, ha...  ...   \n",
       "1                                                NaN  ...   \n",
       "2  my large jaw and large glasses are the physica...  ...   \n",
       "\n",
       "                                 sign     smokes  \\\n",
       "0                              gemini  sometimes   \n",
       "1                              cancer         no   \n",
       "2  pisces but it doesn&rsquo;t matter         no   \n",
       "\n",
       "                                              speaks     status  \\\n",
       "0                                            english     single   \n",
       "1  english (fluently), spanish (poorly), french (...     single   \n",
       "2                               english, french, c++  available   \n",
       "\n",
       "  Num_Langs_Fluently Num_Langs_Okay       State                 City  \\\n",
       "0                  0              0  california  south san francisco   \n",
       "1                  0              0  california              oakland   \n",
       "2                  0              0  california        san francisco   \n",
       "\n",
       "   religion_clear sign_clear  \n",
       "0     agnosticism     gemini  \n",
       "1     agnosticism     cancer  \n",
       "2             nan     pisces  \n",
       "\n",
       "[3 rows x 37 columns]"
      ]
     },
     "execution_count": 35,
     "metadata": {},
     "output_type": "execute_result"
    }
   ],
   "source": [
    "# Calling function to clear zodiac sign and religion column. \n",
    "#\n",
    "clear_columns(df, cols_to_clear)\n",
    "df.head(3)"
   ]
  },
  {
   "cell_type": "code",
   "execution_count": 36,
   "id": "619abe0e",
   "metadata": {},
   "outputs": [],
   "source": [
    "religion_code_dict = {\n",
    "    'nan' : np.nan,\n",
    "    np.nan : np.nan,\n",
    "    'agnosticism' : 2,\n",
    "    'other' : 1,\n",
    "    'atheism' : 0, \n",
    "    'christianity' : 3,\n",
    "    'catholicism' : 4,\n",
    "    'judaism' : 5,\n",
    "    'buddhism' : 6,\n",
    "    'hinduism' : 7,\n",
    "    'islam' : 8    \n",
    "}"
   ]
  },
  {
   "cell_type": "code",
   "execution_count": 37,
   "id": "f2f11bc6",
   "metadata": {},
   "outputs": [],
   "source": [
    "essay_cols = [\"essay0\",\"essay1\",\"essay2\",\"essay3\",\"essay4\",\"essay5\",\"essay6\",\"essay7\",\"essay8\",\"essay9\"]\n",
    "\n",
    "def clean_words(word_list: list):\n",
    "    clean_word_list = [word.strip(punctuation) for word in word_list if word.strip(punctuation)]\n",
    "    return clean_word_list\n",
    "#\n",
    "# Removing the NaNs. \n",
    "#\n",
    "essays_only = df[essay_cols].replace(np.nan, '', regex=True)\n",
    "#\n",
    "# Removing break sign from text string. \n",
    "#\n",
    "all_essays = (pd.DataFrame(essays_only.apply(lambda row: ' '.join(row).replace(\"<br\",\"\"), axis = 1))\n",
    "              .rename(columns = {0:'essays_combined'})\n",
    "             )\n",
    "#\n",
    "df = df.join(all_essays)\n",
    "#\n",
    "# Creating new columns\n",
    "df['I_me_Freq'] = df.apply(lambda row: row['essays_combined'].count(\"I\") + row['essays_combined'].count(\"me\"), axis = 1)\n",
    "df[\"num_words\"] = df.apply(lambda row: len(clean_words(row['essays_combined'].split())), axis = 1)\n",
    "df[\"essay_length_clean\"] = df.apply(lambda row: len(\" \".join(clean_words(row['essays_combined'].split()))), axis = 1)\n",
    "df[\"essay_length_wo_spaces\"] = df.apply(lambda row: len(\"\".join(clean_words(row['essays_combined'].split()))), axis = 1)"
   ]
  },
  {
   "cell_type": "markdown",
   "id": "72066468",
   "metadata": {},
   "source": [
    "## Transformation into numerical data"
   ]
  },
  {
   "cell_type": "code",
   "execution_count": 38,
   "id": "02640f62",
   "metadata": {},
   "outputs": [],
   "source": [
    "cols_to_code = [\"income\", \"diet\", \"drugs\", \"drinks\", \"smokes\", \"orientation\", \n",
    "                \"education\", \"ethnicity\", \"job\", \"sex\", \"State\", \"City\",\n",
    "               \"body_type\", \"pets\", \"religion_clear\", \"offspring\"]\n",
    "code_dicts = (income_code_dict, diet_code_dict, drugs_code_dict, drinks_code_dict, \n",
    "              smokes_code_dict, orient_code_dict, education_code_dict, ethinicity_code_dict,\n",
    "              job_code_dict, sex_code_dict, state_code_dict, city_code_dict, body_code_dict, \n",
    "              pets_code_dict, religion_code_dict, offspring_code_dict\n",
    "             )            \n",
    "\n",
    "def code_columns(dataframe, cols_to_code_lst: list, code_dicts_tpl: tuple):\n",
    "    for index, col in enumerate(cols_to_code_lst):\n",
    "        new_column = str(col)+\"_code\"\n",
    "        dataframe[new_column] = df.apply(lambda row: code_dicts_tpl[index][row[col]], axis = 1)\n",
    "    return dataframe"
   ]
  },
  {
   "cell_type": "code",
   "execution_count": 39,
   "id": "cc32a725",
   "metadata": {},
   "outputs": [
    {
     "data": {
      "text/html": [
       "<div>\n",
       "<style scoped>\n",
       "    .dataframe tbody tr th:only-of-type {\n",
       "        vertical-align: middle;\n",
       "    }\n",
       "\n",
       "    .dataframe tbody tr th {\n",
       "        vertical-align: top;\n",
       "    }\n",
       "\n",
       "    .dataframe thead th {\n",
       "        text-align: right;\n",
       "    }\n",
       "</style>\n",
       "<table border=\"1\" class=\"dataframe\">\n",
       "  <thead>\n",
       "    <tr style=\"text-align: right;\">\n",
       "      <th></th>\n",
       "      <th>age</th>\n",
       "      <th>body_type</th>\n",
       "      <th>diet</th>\n",
       "      <th>drinks</th>\n",
       "      <th>drugs</th>\n",
       "      <th>education</th>\n",
       "      <th>essay0</th>\n",
       "      <th>essay1</th>\n",
       "      <th>essay2</th>\n",
       "      <th>essay3</th>\n",
       "      <th>...</th>\n",
       "      <th>education_code</th>\n",
       "      <th>ethnicity_code</th>\n",
       "      <th>job_code</th>\n",
       "      <th>sex_code</th>\n",
       "      <th>State_code</th>\n",
       "      <th>City_code</th>\n",
       "      <th>body_type_code</th>\n",
       "      <th>pets_code</th>\n",
       "      <th>religion_clear_code</th>\n",
       "      <th>offspring_code</th>\n",
       "    </tr>\n",
       "  </thead>\n",
       "  <tbody>\n",
       "    <tr>\n",
       "      <th>0</th>\n",
       "      <td>22</td>\n",
       "      <td>a little extra</td>\n",
       "      <td>strictly anything</td>\n",
       "      <td>socially</td>\n",
       "      <td>never</td>\n",
       "      <td>working on college/university</td>\n",
       "      <td>about me:&lt;br /&gt;\\r\\n&lt;br /&gt;\\r\\ni would love to t...</td>\n",
       "      <td>currently working as an international agent fo...</td>\n",
       "      <td>making people laugh.&lt;br /&gt;\\r\\nranting about a ...</td>\n",
       "      <td>the way i look. i am a six foot half asian, ha...</td>\n",
       "      <td>...</td>\n",
       "      <td>2.0</td>\n",
       "      <td>2.0</td>\n",
       "      <td>0.0</td>\n",
       "      <td>0</td>\n",
       "      <td>0</td>\n",
       "      <td>0</td>\n",
       "      <td>0.0</td>\n",
       "      <td>0.0</td>\n",
       "      <td>2.0</td>\n",
       "      <td>2.0</td>\n",
       "    </tr>\n",
       "    <tr>\n",
       "      <th>1</th>\n",
       "      <td>35</td>\n",
       "      <td>average</td>\n",
       "      <td>mostly other</td>\n",
       "      <td>often</td>\n",
       "      <td>sometimes</td>\n",
       "      <td>working on space camp</td>\n",
       "      <td>i am a chef: this is what that means.&lt;br /&gt;\\r\\...</td>\n",
       "      <td>dedicating everyday to being an unbelievable b...</td>\n",
       "      <td>being silly. having ridiculous amonts of fun w...</td>\n",
       "      <td>NaN</td>\n",
       "      <td>...</td>\n",
       "      <td>1.0</td>\n",
       "      <td>0.0</td>\n",
       "      <td>1.0</td>\n",
       "      <td>0</td>\n",
       "      <td>0</td>\n",
       "      <td>1</td>\n",
       "      <td>6.0</td>\n",
       "      <td>0.0</td>\n",
       "      <td>2.0</td>\n",
       "      <td>2.0</td>\n",
       "    </tr>\n",
       "    <tr>\n",
       "      <th>2</th>\n",
       "      <td>38</td>\n",
       "      <td>thin</td>\n",
       "      <td>anything</td>\n",
       "      <td>socially</td>\n",
       "      <td>NaN</td>\n",
       "      <td>graduated from masters program</td>\n",
       "      <td>i'm not ashamed of much, but writing public te...</td>\n",
       "      <td>i make nerdy software for musicians, artists, ...</td>\n",
       "      <td>improvising in different contexts. alternating...</td>\n",
       "      <td>my large jaw and large glasses are the physica...</td>\n",
       "      <td>...</td>\n",
       "      <td>3.0</td>\n",
       "      <td>NaN</td>\n",
       "      <td>NaN</td>\n",
       "      <td>0</td>\n",
       "      <td>0</td>\n",
       "      <td>0</td>\n",
       "      <td>1.0</td>\n",
       "      <td>2.0</td>\n",
       "      <td>NaN</td>\n",
       "      <td>NaN</td>\n",
       "    </tr>\n",
       "    <tr>\n",
       "      <th>3</th>\n",
       "      <td>23</td>\n",
       "      <td>thin</td>\n",
       "      <td>vegetarian</td>\n",
       "      <td>socially</td>\n",
       "      <td>NaN</td>\n",
       "      <td>working on college/university</td>\n",
       "      <td>i work in a library and go to school. . .</td>\n",
       "      <td>reading things written by old dead people</td>\n",
       "      <td>playing synthesizers and organizing books acco...</td>\n",
       "      <td>socially awkward but i do my best</td>\n",
       "      <td>...</td>\n",
       "      <td>2.0</td>\n",
       "      <td>0.0</td>\n",
       "      <td>2.0</td>\n",
       "      <td>0</td>\n",
       "      <td>0</td>\n",
       "      <td>2</td>\n",
       "      <td>1.0</td>\n",
       "      <td>2.0</td>\n",
       "      <td>NaN</td>\n",
       "      <td>1.0</td>\n",
       "    </tr>\n",
       "    <tr>\n",
       "      <th>4</th>\n",
       "      <td>29</td>\n",
       "      <td>athletic</td>\n",
       "      <td>NaN</td>\n",
       "      <td>socially</td>\n",
       "      <td>never</td>\n",
       "      <td>graduated from college/university</td>\n",
       "      <td>hey how's it going? currently vague on the pro...</td>\n",
       "      <td>work work work work + play</td>\n",
       "      <td>creating imagery to look at:&lt;br /&gt;\\r\\nhttp://b...</td>\n",
       "      <td>i smile a lot and my inquisitive nature</td>\n",
       "      <td>...</td>\n",
       "      <td>3.0</td>\n",
       "      <td>3.0</td>\n",
       "      <td>3.0</td>\n",
       "      <td>0</td>\n",
       "      <td>0</td>\n",
       "      <td>0</td>\n",
       "      <td>4.0</td>\n",
       "      <td>0.0</td>\n",
       "      <td>NaN</td>\n",
       "      <td>NaN</td>\n",
       "    </tr>\n",
       "    <tr>\n",
       "      <th>...</th>\n",
       "      <td>...</td>\n",
       "      <td>...</td>\n",
       "      <td>...</td>\n",
       "      <td>...</td>\n",
       "      <td>...</td>\n",
       "      <td>...</td>\n",
       "      <td>...</td>\n",
       "      <td>...</td>\n",
       "      <td>...</td>\n",
       "      <td>...</td>\n",
       "      <td>...</td>\n",
       "      <td>...</td>\n",
       "      <td>...</td>\n",
       "      <td>...</td>\n",
       "      <td>...</td>\n",
       "      <td>...</td>\n",
       "      <td>...</td>\n",
       "      <td>...</td>\n",
       "      <td>...</td>\n",
       "      <td>...</td>\n",
       "      <td>...</td>\n",
       "    </tr>\n",
       "    <tr>\n",
       "      <th>59941</th>\n",
       "      <td>59</td>\n",
       "      <td>NaN</td>\n",
       "      <td>NaN</td>\n",
       "      <td>socially</td>\n",
       "      <td>never</td>\n",
       "      <td>graduated from college/university</td>\n",
       "      <td>vibrant, expressive, caring optimist. i love b...</td>\n",
       "      <td>the happiest times have been when life came to...</td>\n",
       "      <td>i make an outstanding osso bucco. i am also ve...</td>\n",
       "      <td>i am told that people notice my smile, eyes an...</td>\n",
       "      <td>...</td>\n",
       "      <td>3.0</td>\n",
       "      <td>NaN</td>\n",
       "      <td>7.0</td>\n",
       "      <td>1</td>\n",
       "      <td>0</td>\n",
       "      <td>1</td>\n",
       "      <td>NaN</td>\n",
       "      <td>1.0</td>\n",
       "      <td>4.0</td>\n",
       "      <td>3.0</td>\n",
       "    </tr>\n",
       "    <tr>\n",
       "      <th>59942</th>\n",
       "      <td>24</td>\n",
       "      <td>fit</td>\n",
       "      <td>mostly anything</td>\n",
       "      <td>often</td>\n",
       "      <td>sometimes</td>\n",
       "      <td>working on college/university</td>\n",
       "      <td>i'm nick.&lt;br /&gt;\\r\\ni never know what to write ...</td>\n",
       "      <td>currently finishing school for film production...</td>\n",
       "      <td>&lt;a class=\"ilink\" href=\"/interests?i=filmmaking...</td>\n",
       "      <td>dude, i don't know.</td>\n",
       "      <td>...</td>\n",
       "      <td>2.0</td>\n",
       "      <td>0.0</td>\n",
       "      <td>6.0</td>\n",
       "      <td>0</td>\n",
       "      <td>0</td>\n",
       "      <td>0</td>\n",
       "      <td>3.0</td>\n",
       "      <td>0.0</td>\n",
       "      <td>2.0</td>\n",
       "      <td>0.0</td>\n",
       "    </tr>\n",
       "    <tr>\n",
       "      <th>59943</th>\n",
       "      <td>42</td>\n",
       "      <td>average</td>\n",
       "      <td>mostly anything</td>\n",
       "      <td>not at all</td>\n",
       "      <td>never</td>\n",
       "      <td>graduated from masters program</td>\n",
       "      <td>hello! i enjoy traveling, watching movies, and...</td>\n",
       "      <td>i'm a civil engineer, who enjoys helping the c...</td>\n",
       "      <td>- looking at things objectively&lt;br /&gt;\\r\\n- get...</td>\n",
       "      <td>i'm quiet until i get used to the environment ...</td>\n",
       "      <td>...</td>\n",
       "      <td>3.0</td>\n",
       "      <td>2.0</td>\n",
       "      <td>13.0</td>\n",
       "      <td>0</td>\n",
       "      <td>0</td>\n",
       "      <td>0</td>\n",
       "      <td>6.0</td>\n",
       "      <td>NaN</td>\n",
       "      <td>3.0</td>\n",
       "      <td>0.0</td>\n",
       "    </tr>\n",
       "    <tr>\n",
       "      <th>59944</th>\n",
       "      <td>27</td>\n",
       "      <td>athletic</td>\n",
       "      <td>mostly anything</td>\n",
       "      <td>socially</td>\n",
       "      <td>often</td>\n",
       "      <td>working on college/university</td>\n",
       "      <td>\"all i have in this world are my balls and my ...</td>\n",
       "      <td>following my dreams...&lt;br /&gt;\\r\\n\"you got a dre...</td>\n",
       "      <td>listening</td>\n",
       "      <td>it used to be the hair until i mowed it off bu...</td>\n",
       "      <td>...</td>\n",
       "      <td>2.0</td>\n",
       "      <td>3.0</td>\n",
       "      <td>8.0</td>\n",
       "      <td>0</td>\n",
       "      <td>0</td>\n",
       "      <td>0</td>\n",
       "      <td>4.0</td>\n",
       "      <td>0.0</td>\n",
       "      <td>2.0</td>\n",
       "      <td>2.0</td>\n",
       "    </tr>\n",
       "    <tr>\n",
       "      <th>59945</th>\n",
       "      <td>39</td>\n",
       "      <td>average</td>\n",
       "      <td>NaN</td>\n",
       "      <td>socially</td>\n",
       "      <td>NaN</td>\n",
       "      <td>graduated from masters program</td>\n",
       "      <td>is it odd that having a little \"enemy\" status ...</td>\n",
       "      <td>i work with elderly people (psychotherapy and ...</td>\n",
       "      <td>i'm a great bullshitter. i don't know what it ...</td>\n",
       "      <td>either that i am funny/sarcastic, or that i am...</td>\n",
       "      <td>...</td>\n",
       "      <td>3.0</td>\n",
       "      <td>0.0</td>\n",
       "      <td>8.0</td>\n",
       "      <td>0</td>\n",
       "      <td>0</td>\n",
       "      <td>0</td>\n",
       "      <td>6.0</td>\n",
       "      <td>0.0</td>\n",
       "      <td>4.0</td>\n",
       "      <td>NaN</td>\n",
       "    </tr>\n",
       "  </tbody>\n",
       "</table>\n",
       "<p>59946 rows × 58 columns</p>\n",
       "</div>"
      ],
      "text/plain": [
       "       age       body_type               diet      drinks      drugs  \\\n",
       "0       22  a little extra  strictly anything    socially      never   \n",
       "1       35         average       mostly other       often  sometimes   \n",
       "2       38            thin           anything    socially        NaN   \n",
       "3       23            thin         vegetarian    socially        NaN   \n",
       "4       29        athletic                NaN    socially      never   \n",
       "...    ...             ...                ...         ...        ...   \n",
       "59941   59             NaN                NaN    socially      never   \n",
       "59942   24             fit    mostly anything       often  sometimes   \n",
       "59943   42         average    mostly anything  not at all      never   \n",
       "59944   27        athletic    mostly anything    socially      often   \n",
       "59945   39         average                NaN    socially        NaN   \n",
       "\n",
       "                               education  \\\n",
       "0          working on college/university   \n",
       "1                  working on space camp   \n",
       "2         graduated from masters program   \n",
       "3          working on college/university   \n",
       "4      graduated from college/university   \n",
       "...                                  ...   \n",
       "59941  graduated from college/university   \n",
       "59942      working on college/university   \n",
       "59943     graduated from masters program   \n",
       "59944      working on college/university   \n",
       "59945     graduated from masters program   \n",
       "\n",
       "                                                  essay0  \\\n",
       "0      about me:<br />\\r\\n<br />\\r\\ni would love to t...   \n",
       "1      i am a chef: this is what that means.<br />\\r\\...   \n",
       "2      i'm not ashamed of much, but writing public te...   \n",
       "3              i work in a library and go to school. . .   \n",
       "4      hey how's it going? currently vague on the pro...   \n",
       "...                                                  ...   \n",
       "59941  vibrant, expressive, caring optimist. i love b...   \n",
       "59942  i'm nick.<br />\\r\\ni never know what to write ...   \n",
       "59943  hello! i enjoy traveling, watching movies, and...   \n",
       "59944  \"all i have in this world are my balls and my ...   \n",
       "59945  is it odd that having a little \"enemy\" status ...   \n",
       "\n",
       "                                                  essay1  \\\n",
       "0      currently working as an international agent fo...   \n",
       "1      dedicating everyday to being an unbelievable b...   \n",
       "2      i make nerdy software for musicians, artists, ...   \n",
       "3              reading things written by old dead people   \n",
       "4                             work work work work + play   \n",
       "...                                                  ...   \n",
       "59941  the happiest times have been when life came to...   \n",
       "59942  currently finishing school for film production...   \n",
       "59943  i'm a civil engineer, who enjoys helping the c...   \n",
       "59944  following my dreams...<br />\\r\\n\"you got a dre...   \n",
       "59945  i work with elderly people (psychotherapy and ...   \n",
       "\n",
       "                                                  essay2  \\\n",
       "0      making people laugh.<br />\\r\\nranting about a ...   \n",
       "1      being silly. having ridiculous amonts of fun w...   \n",
       "2      improvising in different contexts. alternating...   \n",
       "3      playing synthesizers and organizing books acco...   \n",
       "4      creating imagery to look at:<br />\\r\\nhttp://b...   \n",
       "...                                                  ...   \n",
       "59941  i make an outstanding osso bucco. i am also ve...   \n",
       "59942  <a class=\"ilink\" href=\"/interests?i=filmmaking...   \n",
       "59943  - looking at things objectively<br />\\r\\n- get...   \n",
       "59944                                          listening   \n",
       "59945  i'm a great bullshitter. i don't know what it ...   \n",
       "\n",
       "                                                  essay3  ... education_code  \\\n",
       "0      the way i look. i am a six foot half asian, ha...  ...            2.0   \n",
       "1                                                    NaN  ...            1.0   \n",
       "2      my large jaw and large glasses are the physica...  ...            3.0   \n",
       "3                      socially awkward but i do my best  ...            2.0   \n",
       "4                i smile a lot and my inquisitive nature  ...            3.0   \n",
       "...                                                  ...  ...            ...   \n",
       "59941  i am told that people notice my smile, eyes an...  ...            3.0   \n",
       "59942                                dude, i don't know.  ...            2.0   \n",
       "59943  i'm quiet until i get used to the environment ...  ...            3.0   \n",
       "59944  it used to be the hair until i mowed it off bu...  ...            2.0   \n",
       "59945  either that i am funny/sarcastic, or that i am...  ...            3.0   \n",
       "\n",
       "      ethnicity_code job_code sex_code State_code City_code body_type_code  \\\n",
       "0                2.0      0.0        0          0         0            0.0   \n",
       "1                0.0      1.0        0          0         1            6.0   \n",
       "2                NaN      NaN        0          0         0            1.0   \n",
       "3                0.0      2.0        0          0         2            1.0   \n",
       "4                3.0      3.0        0          0         0            4.0   \n",
       "...              ...      ...      ...        ...       ...            ...   \n",
       "59941            NaN      7.0        1          0         1            NaN   \n",
       "59942            0.0      6.0        0          0         0            3.0   \n",
       "59943            2.0     13.0        0          0         0            6.0   \n",
       "59944            3.0      8.0        0          0         0            4.0   \n",
       "59945            0.0      8.0        0          0         0            6.0   \n",
       "\n",
       "       pets_code  religion_clear_code offspring_code  \n",
       "0            0.0                  2.0            2.0  \n",
       "1            0.0                  2.0            2.0  \n",
       "2            2.0                  NaN            NaN  \n",
       "3            2.0                  NaN            1.0  \n",
       "4            0.0                  NaN            NaN  \n",
       "...          ...                  ...            ...  \n",
       "59941        1.0                  4.0            3.0  \n",
       "59942        0.0                  2.0            0.0  \n",
       "59943        NaN                  3.0            0.0  \n",
       "59944        0.0                  2.0            2.0  \n",
       "59945        0.0                  4.0            NaN  \n",
       "\n",
       "[59946 rows x 58 columns]"
      ]
     },
     "execution_count": 39,
     "metadata": {},
     "output_type": "execute_result"
    }
   ],
   "source": [
    "code_columns(df, cols_to_code, code_dicts)"
   ]
  },
  {
   "cell_type": "markdown",
   "id": "1ffbcbc0",
   "metadata": {},
   "source": [
    "# Analysis of Foreign Languages"
   ]
  },
  {
   "cell_type": "markdown",
   "id": "8fd55139",
   "metadata": {},
   "source": [
    "The most learned languages in US: refer To :https://www.infoplease.com/us/society-culture/most-studied-foreign-languages-us"
   ]
  },
  {
   "cell_type": "code",
   "execution_count": 40,
   "id": "b53451f7",
   "metadata": {},
   "outputs": [
    {
     "name": "stdout",
     "output_type": "stream",
     "text": [
      "spanish  |  french  |  german  |  italian  |  japanese  |  chinese  |  arabic  |  russian  |  portuguese  |  latin  |  korean\n"
     ]
    }
   ],
   "source": [
    "print(*most_learned_in_US, sep=\"  |  \")"
   ]
  },
  {
   "cell_type": "markdown",
   "id": "72dc2b1a",
   "metadata": {},
   "source": [
    "The graphs below are showing the number of OKCupid Users devided into categories based on the number of fluently and okay speaking languages. Only the most in US learned languages are considered.  \n",
    "\n",
    "It clearly shows that majority of users speak only english without knowledge of any foreign language."
   ]
  },
  {
   "cell_type": "code",
   "execution_count": 255,
   "id": "5383d589",
   "metadata": {},
   "outputs": [
    {
     "data": {
      "image/png": "[encoded data removed]",
      "text/plain": [
       "<Figure size 1008x432 with 2 Axes>"
      ]
     },
     "metadata": {
      "needs_background": "light"
     },
     "output_type": "display_data"
    }
   ],
   "source": [
    "fig, axes = plt.subplots(1,2, figsize=(14,6), sharey = True, squeeze = True)\n",
    "(ax1, ax2) = axes\n",
    "plt.suptitle(\"Count of Languages That Are The Most Learned in US\", fontsize = 16)\n",
    "df.assign(Num_Fluently_Spoken = 1).groupby(\"Num_Langs_Fluently\").count()[[\"Num_Fluently_Spoken\"]].plot.bar(ax=ax1, edgecolor = 'black',  color = 'blue')\n",
    "df.assign(Num_Okay_Spoken = 1).groupby(\"Num_Langs_Okay\").count()[[\"Num_Okay_Spoken\"]].plot.bar(ax=ax2, edgecolor = 'black',  color = 'blue')\n",
    "ax1.set_xlabel('Number of Fluently Spoken Languages', fontsize = 16);\n",
    "ax1.set_ylabel('Count of OKCupid Users', fontsize = 16);\n",
    "ax1.set_title(\"Fluently spoken languages\", fontsize = 14)\n",
    "ax1.grid();\n",
    "\n",
    "ax2.set_xlabel('Number of Okay Spoken Languages', fontsize = 16);\n",
    "ax2.set_ylabel('Frequency in Dataset', fontsize = 16);\n",
    "ax2.set_title(\"Okay spoken languages\", fontsize = 14)\n",
    "ax2.grid();"
   ]
  },
  {
   "cell_type": "markdown",
   "id": "2def8b89",
   "metadata": {},
   "source": [
    "# Age Distribution and Education Level Counts "
   ]
  },
  {
   "cell_type": "code",
   "execution_count": 256,
   "id": "a3371649",
   "metadata": {},
   "outputs": [
    {
     "data": {
      "image/png": "[encoded data removed]",
      "text/plain": [
       "<Figure size 864x288 with 1 Axes>"
      ]
     },
     "metadata": {
      "needs_background": "light"
     },
     "output_type": "display_data"
    },
    {
     "data": {
      "image/png": "[encoded data removed]",
      "text/plain": [
       "<Figure size 864x288 with 2 Axes>"
      ]
     },
     "metadata": {
      "needs_background": "light"
     },
     "output_type": "display_data"
    }
   ],
   "source": [
    "fig, axes = plt.subplots(1,1, figsize=(12,4))\n",
    "(ax1) = axes\n",
    "\n",
    "education_labels = ['elementary', 'secondary', 'post-secondary', 'PhD']\n",
    "\n",
    "df['age'].plot.hist(bins = 40, ax=ax1, edgecolor = 'black', color = 'green', alpha = 0.75);\n",
    "ax1.set_xlabel('Age', fontsize = 12);\n",
    "ax1.set_ylabel('Frequency', fontsize = 12);\n",
    "ax1.set_title('Histogram: Age Distribution', fontsize = 12);\n",
    "\n",
    "fig, axes = plt.subplots(1,2, figsize=(12,4))\n",
    "(ax1, ax2) = axes\n",
    "\n",
    "df.assign(count = 1).groupby(\"education_code\").count()[[\"count\"]].plot.bar(ax=ax1, edgecolor = 'black',  color = 'blue')\n",
    "ax1.set_xlabel('Education Level', fontsize = 12);\n",
    "ax1.set_ylabel('Count of OKCupid Users', fontsize = 12);\n",
    "ax1.set_title('Bar Chart: Education Bar Chart', fontsize = 12);\n",
    "legend_label_education = ['Count']\n",
    "ax1.legend(labels= legend_label_education)\n",
    "ax1.set_xticklabels(education_labels, rotation = 50);\n",
    "\n",
    "df.assign(count = 1).groupby([\"education_code\", \"sex\"]).count()[[\"count\"]].unstack(1).plot.bar(ax = ax2, edgecolor = 'black')\n",
    "ax2.set_xlabel('Education Level', fontsize = 12);\n",
    "ax2.set_ylabel('Count of OKCupid Users', fontsize = 12);\n",
    "ax2.set_title('Bar Chart: Education Bar Chart for both men and women', fontsize = 12);\n",
    "ax2.set_xticklabels(education_labels, rotation = 20);\n",
    "legend_label_education_grouped = ['Count of Female Users', 'Count of Male Users']\n",
    "ax2.legend(labels= legend_label_education_grouped)\n",
    "ax2.grid();\n",
    "\n",
    "plt.tight_layout();"
   ]
  },
  {
   "cell_type": "markdown",
   "id": "2e532a82",
   "metadata": {},
   "source": [
    "# Sexual orientation and Gender"
   ]
  },
  {
   "cell_type": "code",
   "execution_count": 307,
   "id": "ce018c93",
   "metadata": {},
   "outputs": [
    {
     "data": {
      "image/png": "[encoded data removed]",
      "text/plain": [
       "<Figure size 864x288 with 1 Axes>"
      ]
     },
     "metadata": {
      "needs_background": "light"
     },
     "output_type": "display_data"
    }
   ],
   "source": [
    "fig, axes = plt.subplots(1,1, figsize=(12,4))\n",
    "(ax1) = axes\n",
    "legend_labels = ['Number of Female Users ', 'Number of Male Users']\n",
    "bar_color = ['steelblue', 'saddlebrown']\n",
    "df.assign(count = 1).groupby([\"orientation\", \"sex\"]).count()[[\"count\"]].unstack(1).plot.bar(ax = ax1, color = bar_color, edgecolor = 'black')\n",
    "ax1.set_xlabel('Orientation', fontsize = 14);\n",
    "ax1.set_ylabel('Count of OKCupid Users', fontsize = 14);\n",
    "ax1.set_title('Sexual Orientation Categories for both men and women', fontsize = 14);\n",
    "ax1.legend(labels = legend_labels)\n",
    "ax1.grid();"
   ]
  },
  {
   "cell_type": "markdown",
   "id": "4561493d",
   "metadata": {},
   "source": [
    "# Sexual Orientation and Religion"
   ]
  },
  {
   "cell_type": "code",
   "execution_count": 417,
   "id": "e2be47f8",
   "metadata": {},
   "outputs": [
    {
     "data": {
      "image/png": "[encoded data removed]",
      "text/plain": [
       "<Figure size 720x360 with 1 Axes>"
      ]
     },
     "metadata": {
      "needs_background": "light"
     },
     "output_type": "display_data"
    }
   ],
   "source": [
    "fig, axes = plt.subplots(1,1, figsize=(10,5))\n",
    "(ax1) = axes\n",
    "\n",
    "(df[[\"religion_clear_code\", \"orientation_code\"]].dropna()\n",
    " .plot.scatter('orientation_code', 'religion_clear_code', ax = ax1, marker = 'o', s=80, color = 'green', edgecolor = 'black', alpha= 0.002)\n",
    ");\n",
    "\n",
    "x_ticks_orientation = [0, 1, 2]\n",
    "y_ticks_religion = [0, 1, 2, 3, 4, 5, 6, 7, 8]\n",
    "\n",
    "religion_labels = ['atheism', 'other', 'agnosticism', 'christianity', 'catholicism', 'judaism', 'buddhism', 'hinduism', 'islam']\n",
    "orientation_labels = [\"Straight\", \"Gay\", \"Bisexual\"]\n",
    "\n",
    "ax1.set_xticks(x_ticks_orientation)\n",
    "ax1.set_xticklabels(labels = orientation_labels, rotation = 90)\n",
    "ax1.set_yticks(y_ticks_religion)\n",
    "ax1.set_yticklabels(labels = religion_labels)\n",
    "ax1.set_title('Sexual Orientaion vs. Religion', fontsize=16, y= 1.03)\n",
    "ax1.set_xlabel('Orientation Category', fontsize=14)\n",
    "ax1.set_ylabel('Religion Category', fontsize=14);"
   ]
  },
  {
   "cell_type": "markdown",
   "id": "3ddc588f",
   "metadata": {},
   "source": [
    "# Smokes, Drugs, Drinks Use and Gender"
   ]
  },
  {
   "cell_type": "code",
   "execution_count": 315,
   "id": "89911657",
   "metadata": {},
   "outputs": [
    {
     "data": {
      "image/png": "[encoded data removed]",
      "text/plain": [
       "<Figure size 1008x360 with 3 Axes>"
      ]
     },
     "metadata": {
      "needs_background": "light"
     },
     "output_type": "display_data"
    }
   ],
   "source": [
    "fig, axes = plt.subplots(1,3, figsize=(14,5))\n",
    "(ax1, ax2, ax3) = axes\n",
    "axs = [ax1, ax2, ax3] \n",
    "    \n",
    "titles = ['Drug Use and Gender', \n",
    "          'Smokes and Gender', \n",
    "          'Drinks and Gender'\n",
    "         ]\n",
    "\n",
    "xlabels = ['Drug Use Frequency', 'Smokes Frequency', 'Drinks Frequency']\n",
    "ylabels = 'Number of OKCupid Users'\n",
    "x_ticks_labels = [[\"never\", \"sometimes\", \"often\"], \n",
    "                  ['no', 'when drinking', 'sometimes', 'trying to quit', 'yes'],\n",
    "                  ['not at all', 'rarely', 'socially', 'often', 'very often', 'desperately']\n",
    "                 ]\n",
    "\n",
    "columns = [\"drugs_code\", \"smokes_code\", \"drinks_code\"]\n",
    "\n",
    "for i, ax in enumerate(axs):\n",
    "    df_a = df.query(\"orientation_code == 0\").assign(count = 1).groupby(columns[i]).count()[[\"count\"]].assign(Category = \"Straight\")\n",
    "    df_b = df.query(\"orientation_code == 1\").assign(count = 1).groupby(columns[i]).count()[[\"count\"]].assign(Category = \"Gay\")\n",
    "    df_c = df.query(\"orientation_code == 2\").assign(count = 1).groupby(columns[i]).count()[[\"count\"]].assign(Category = \"Bisexual\")\n",
    "    df_plot = pd.concat([df_a, df_b, df_c], axis = 0)\n",
    "    sns.barplot(x = df_plot.index, y = 'count', hue = 'Category', data = df_plot, ax=ax, edgecolor = 'black', palette=\"icefire\");\n",
    "    ax.set_title(titles[i], fontsize=16, y= 1.03)\n",
    "    ax.set_xlabel(xlabels[i], fontsize=14)\n",
    "    ax.set_ylabel(ylabels, fontsize=14)\n",
    "    ax.set_xticklabels(labels = x_ticks_labels[i], rotation = 25)\n",
    "    ax.grid()\n",
    "    plt.tight_layout();"
   ]
  },
  {
   "cell_type": "markdown",
   "id": "b873daab",
   "metadata": {},
   "source": [
    "# Ethnicity percentage in the dataset"
   ]
  },
  {
   "cell_type": "code",
   "execution_count": 44,
   "id": "85a551b0",
   "metadata": {},
   "outputs": [
    {
     "data": {
      "image/png": "[encoded data removed]",
      "text/plain": [
       "<Figure size 864x288 with 1 Axes>"
      ]
     },
     "metadata": {},
     "output_type": "display_data"
    }
   ],
   "source": [
    "fig, axes = plt.subplots(1,1, figsize=(12,4))\n",
    "(ax1) = axes\n",
    "ethnicities = df[[\"ethnicity_code\"]].dropna().assign(count = 1).groupby(\"ethnicity_code\").count().values.flatten()\n",
    "labels = ['White', 'Black or African', 'Asian White', 'Asian Black', 'Hispanic and Lation', 'Pacific Islander', 'Other']\n",
    "colors = ['lightblue', 'red', 'purple', 'lime', 'magenta', 'pink', 'green']\n",
    "ax1.pie(ethnicities, labels = labels, colors=colors, autopct='%.1f', wedgeprops={'edgecolor': 'black', 'alpha': 0.8});"
   ]
  },
  {
   "cell_type": "markdown",
   "id": "8484ff29",
   "metadata": {},
   "source": [
    "# States and their percentage in the dataset"
   ]
  },
  {
   "cell_type": "code",
   "execution_count": 422,
   "id": "4187278f",
   "metadata": {},
   "outputs": [
    {
     "data": {
      "image/png": "[encoded data removed]",
      "text/plain": [
       "<Figure size 864x288 with 1 Axes>"
      ]
     },
     "metadata": {},
     "output_type": "display_data"
    }
   ],
   "source": [
    "states = df[[\"State_code\"]].assign(count = 1).groupby(\"State_code\").count().values.flatten()\n",
    "labels_states = ['California', 'Other', 'Other']\n",
    "colors_states = ['orange', 'cyan', 'yellow']\n",
    "fig, axes = plt.subplots(1,1, figsize=(12,4))\n",
    "(ax1) = axes\n",
    "\n",
    "ax1.pie(states, labels = labels_states, colors=colors_states, autopct='%.1f', wedgeprops={'edgecolor': 'black', 'alpha': 0.8});"
   ]
  },
  {
   "cell_type": "markdown",
   "id": "a3d3eb2c",
   "metadata": {},
   "source": [
    "# Income distribution in state California"
   ]
  },
  {
   "cell_type": "markdown",
   "id": "6275eb8a",
   "metadata": {},
   "source": [
    "Majority is OKCupid users come from State California and therefore the income distribution is plotted only based on data point of all californian people in the data set. "
   ]
  },
  {
   "cell_type": "markdown",
   "id": "4a98e505",
   "metadata": {},
   "source": [
    "The value in the \"income\" column with the highest occurence is -1. Those entries have been dropped before histogram plot. "
   ]
  },
  {
   "cell_type": "code",
   "execution_count": 181,
   "id": "20dc6e6f",
   "metadata": {},
   "outputs": [
    {
     "data": {
      "image/png": "[encoded data removed]",
      "text/plain": [
       "<Figure size 864x288 with 1 Axes>"
      ]
     },
     "metadata": {
      "needs_background": "light"
     },
     "output_type": "display_data"
    }
   ],
   "source": [
    "fig, axes = plt.subplots(1,1, figsize=(12,4))\n",
    "(ax1) = axes\n",
    "x_ticks_income = np.linspace(0,1000000,21)\n",
    "(df.drop(df.query(\"State_code != 0\" and \"income < 0\").index, axis = 0)[[\"income\"]]\n",
    ".plot.hist(bins = 40, ax=ax1, edgecolor = 'black', color = 'green', alpha = 0.75)\n",
    ")\n",
    "\n",
    "ax1.set_xlabel('Income in USD', fontsize = 14);\n",
    "ax1.set_ylabel('Frequency in the dataset', fontsize = 14);\n",
    "ax1.set_title('Histogram: Income Distribution', fontsize = 14)\n",
    "ax1.set_xticks(x_ticks_income)\n",
    "ax1.set_xticklabels(x_ticks_income, rotation = 45);"
   ]
  },
  {
   "cell_type": "markdown",
   "id": "0ebe82d2",
   "metadata": {},
   "source": [
    "# Job Categories in state California"
   ]
  },
  {
   "cell_type": "code",
   "execution_count": 47,
   "id": "04e341a1",
   "metadata": {},
   "outputs": [
    {
     "data": {
      "image/png": "[encoded data removed]",
      "text/plain": [
       "<Figure size 576x576 with 1 Axes>"
      ]
     },
     "metadata": {},
     "output_type": "display_data"
    }
   ],
   "source": [
    "job_pie_df = (df.drop(df.query(\"State_code != 0\" and \"income < 0\").index, axis = 0).assign(count = 1).groupby(\"job\").count()[[\"count\"]]\n",
    "    .sort_values(\"count\", ascending = False)\n",
    "                )\n",
    "data_job_pie = job_pie_df.values.flatten()\n",
    "labels_job_pie = np.array(list(job_pie_df.index))\n",
    "color_job_pie = ['tomato', 'aqua', 'steelblue', 'gray', 'lawngreen', 'royalblue', 'olive', \n",
    "                 'deeppink', 'lime', 'crimson', 'peru', 'turquoise', 'darkorange', 'firebrick',\n",
    "                'mediumpurple', 'saddlebrown', 'teal', 'hotpink', 'palegreen', 'tan', 'slateblue'\n",
    "                ]\n",
    "fig, axes = plt.subplots(1,1, figsize=(8,8))\n",
    "(ax1) = axes\n",
    "\n",
    "ax1.pie(data_job_pie, labels = labels_job_pie, colors=color_job_pie, \n",
    "        explode=np.concatenate([np.repeat(0.05, len(data_job_pie)-1), np.array([0.1])]),\n",
    "        autopct='%.1f', \n",
    "        pctdistance=0.5, \n",
    "        wedgeprops={'edgecolor': 'black', 'alpha': 0.8}, \n",
    "        textprops={'fontsize':10.0},\n",
    "        startangle=40\n",
    "        );"
   ]
  },
  {
   "cell_type": "markdown",
   "id": "58d25cab",
   "metadata": {},
   "source": [
    "# Offspring and Gender"
   ]
  },
  {
   "cell_type": "code",
   "execution_count": 285,
   "id": "f1bcbd89",
   "metadata": {},
   "outputs": [
    {
     "data": {
      "image/png": "[encoded data removed]",
      "text/plain": [
       "<Figure size 1008x360 with 1 Axes>"
      ]
     },
     "metadata": {
      "needs_background": "light"
     },
     "output_type": "display_data"
    }
   ],
   "source": [
    "fig, axes = plt.subplots(1,1, figsize=(14,5))\n",
    "(ax1) = axes\n",
    "\n",
    "    \n",
    "title = 'Offspring and Gender'\n",
    "\n",
    "xlabel = 'Offspring Category'\n",
    "ylabel = 'Number of OKCupid Users'\n",
    "x_ticks_labels = ['don´t have a kids', 'don´t have kinds and don´t want them', 'don´t have a kinds a want them',\n",
    "                    'have kinds', 'have kinds and do not want more', 'have kinds/have kinds and want more']\n",
    "\n",
    "\n",
    "df_a = df.query(\"sex_code == 0\").assign(count = 1).groupby(\"offspring_code\").count()[[\"count\"]].assign(Category = \"Male\")\n",
    "df_b = df.query(\"sex_code == 1\").assign(count = 1).groupby(\"offspring_code\").count()[[\"count\"]].assign(Category = \"Female\")\n",
    "df_plot = pd.concat([df_a, df_b], axis = 0)\n",
    "sns.barplot(x = df_plot.index, y = 'count', hue = 'Category', data = df_plot, ax=ax1, edgecolor = 'black', palette=\"cubehelix\");\n",
    "ax1.set_title(title, fontsize=16, y= 1.03)\n",
    "ax1.set_xlabel(xlabel, fontsize=14)\n",
    "ax1.set_ylabel(ylabel, fontsize=14)\n",
    "ax1.set_xticklabels(labels = x_ticks_labels, rotation = 90)\n",
    "ax1.grid()"
   ]
  },
  {
   "cell_type": "markdown",
   "id": "522ec2ef",
   "metadata": {},
   "source": [
    "# Offspring, Sexual orientation and Religion"
   ]
  },
  {
   "cell_type": "code",
   "execution_count": 312,
   "id": "cb365155",
   "metadata": {},
   "outputs": [
    {
     "data": {
      "image/png": "[encoded data removed]",
      "text/plain": [
       "<Figure size 1008x360 with 1 Axes>"
      ]
     },
     "metadata": {
      "needs_background": "light"
     },
     "output_type": "display_data"
    }
   ],
   "source": [
    "fig, axes = plt.subplots(1,1, figsize=(14,5))\n",
    "(ax1) = axes\n",
    "\n",
    "    \n",
    "title = 'Offspring and Sexual Orientation'\n",
    "\n",
    "xlabel = 'Offspring Category'\n",
    "ylabel = 'Number of OKCupid Users'\n",
    "x_ticks_labels = ['don´t have a kids', 'don´t have kinds and don´t want them', 'don´t have a kinds a want them',\n",
    "                    'have kids', 'have kinds and do not want more', 'have kinds/have kinds and want more']\n",
    "\n",
    "\n",
    "df_a = df.query(\"orientation_code == 0\").assign(count = 1).groupby(\"offspring_code\").count()[[\"count\"]].assign(Category = \"Straight\")\n",
    "df_b = df.query(\"orientation_code == 1\").assign(count = 1).groupby(\"offspring_code\").count()[[\"count\"]].assign(Category = \"Gay\")\n",
    "df_c = df.query(\"orientation_code == 2\").assign(count = 1).groupby(\"offspring_code\").count()[[\"count\"]].assign(Category = \"Bisexual\")\n",
    "df_plot = pd.concat([df_a, df_b, df_c], axis = 0)\n",
    "sns.barplot(x = df_plot.index, y = 'count', hue = 'Category', data = df_plot, ax=ax1, edgecolor = 'black', palette=\"dark:salmon_r\");\n",
    "ax1.set_title(title, fontsize=16, y= 1.03)\n",
    "ax1.set_xlabel(xlabel, fontsize=14)\n",
    "ax1.set_ylabel(ylabel, fontsize=14)\n",
    "ax1.set_xticklabels(labels = x_ticks_labels, rotation = 45)\n",
    "ax1.grid()"
   ]
  },
  {
   "cell_type": "code",
   "execution_count": 411,
   "id": "3eb3e52b",
   "metadata": {},
   "outputs": [
    {
     "data": {
      "image/png": "[encoded data removed]",
      "text/plain": [
       "<Figure size 864x432 with 2 Axes>"
      ]
     },
     "metadata": {
      "needs_background": "light"
     },
     "output_type": "display_data"
    }
   ],
   "source": [
    "fig, axes = plt.subplots(1,2, figsize = (12,6), sharey=True)\n",
    "(ax1, ax2) = axes\n",
    "(df[[\"orientation_code\", \"offspring_code\"]].dropna()\n",
    " .plot.scatter('orientation_code', 'offspring_code', ax = ax1, marker = 'o', s=80, color = 'red', edgecolor = 'black', alpha= 0.009)\n",
    ");\n",
    "x_ticks_orientation = [0, 1, 2]\n",
    "y_ticks_offspring = [0, 1, 2, 3, 4, 5]\n",
    "\n",
    "offspring_labels = ['don´t have a kids', 'don´t have kinds and don´t want them', 'don´t have a kinds a want them',\n",
    "                    'have kids', 'have kinds and do not want more', 'have kinds/have kinds and want more']\n",
    "\n",
    "orientation_labels = [\"Straight\", \"Gay\", \"Bisexual\"]\n",
    "\n",
    "ax1.set_xticks(x_ticks_orientation)\n",
    "ax1.set_xticklabels(labels = orientation_labels, rotation = 90)\n",
    "ax1.set_yticks(y_ticks_offspring)\n",
    "ax1.set_yticklabels(labels = offspring_labels)\n",
    "ax1.set_title('Offspring vs. Sexual Orientation', fontsize=16, y= 1.03)\n",
    "ax1.set_xlabel('Orientation Category', fontsize=14)\n",
    "ax1.set_ylabel('Offspring Category', fontsize=14);\n",
    "\n",
    "\n",
    "(df[[\"religion_clear_code\", \"offspring_code\"]].dropna()\n",
    " .plot.scatter('religion_clear_code', 'offspring_code', ax = ax2, marker = 'o', s=80, color = 'red', edgecolor = 'black', alpha= 0.009)\n",
    ");\n",
    "x_ticks_religion = [0, 1, 2, 3, 4, 5, 6, 7, 8]\n",
    "religion_labels = ['atheism', 'other', 'agnosticism', 'christianity', 'catholicism', 'judaism', 'buddhism', 'hinduism', 'islam']\n",
    "ax2.set_xticks(x_ticks_religion)\n",
    "ax2.set_xticklabels(labels = religion_labels, rotation = 90)\n",
    "ax2.set_yticks(y_ticks_offspring)\n",
    "ax2.set_yticklabels(labels = offspring_labels)\n",
    "ax2.set_title('Offspring vs. Religion', fontsize=16, y= 1.03)\n",
    "ax2.set_xlabel('Religion Category', fontsize=14)\n",
    "ax2.set_ylabel('Offspring Category', fontsize=14);"
   ]
  },
  {
   "cell_type": "code",
   "execution_count": 397,
   "id": "d3b83fff",
   "metadata": {},
   "outputs": [
    {
     "data": {
      "image/png": "[encoded data removed]",
      "text/plain": [
       "<Figure size 432x288 with 1 Axes>"
      ]
     },
     "metadata": {
      "needs_background": "light"
     },
     "output_type": "display_data"
    }
   ],
   "source": [
    "from mpl_toolkits.mplot3d import Axes3D\n",
    "fig = plt.figure(1, figsize=(6,4))\n",
    "plt.clf()\n",
    "elev = 43.5\n",
    "azim = -120\n",
    "plot_3D_df = df[[\"orientation_code\", \"offspring_code\", \"religion_clear_code\"]].dropna()\n",
    "ax = Axes3D(fig, elev= elev, azim=azim)\n",
    "ax.scatter(df[[\"orientation_code\"]], df[[\"offspring_code\"]], df[[\"religion_clear_code\"]], color = 'red', edgecolor = 'black', alpha = 0.05);\n",
    "\n",
    "x_ticks_orientation = [0, 1, 2]\n",
    "y_ticks_offspring = [0, 1, 2, 3, 4, 5]\n",
    "z_ticks_religion = [0, 1, 2, 3, 4, 5, 6, 7, 8]\n",
    "offspring_labels = ['don´t have a kids', 'don´t have kinds and don´t want them', 'don´t have a kinds a want them',\n",
    "                    'have kids', 'have kinds and do not want more', 'have kinds/have kinds and want more']\n",
    "orientation_labels = [\"Straight\", \"Gay\", \"Bisexual\"]\n",
    "religion_labels = ['atheism', 'other', 'agnosticism', 'christianity', 'catholicism', 'judaism', 'buddhism', 'hinduism', 'islam']\n",
    "\n",
    "ax.set_xticks(x_ticks_orientation);\n",
    "ax.set_xticklabels(labels = orientation_labels, rotation = 0);\n",
    "ax.set_yticks(y_ticks_offspring);\n",
    "ax.set_yticklabels(labels = offspring_labels, rotation=90);\n",
    "ax.set_zticks(z_ticks_religion);\n",
    "ax.set_zticklabels(labels = religion_labels, rotation=0);"
   ]
  },
  {
   "cell_type": "markdown",
   "id": "72b5109e",
   "metadata": {},
   "source": [
    "# K-Nearest Neighbors algoritm \n",
    "\n",
    "## Normalization\n",
    "Data has to be normalized in order to make every datapoint have the same scale so each feature is equally important. \n",
    "1. min-max normaliztion is the most common way to normalize data -> data are transformed into a decimal between 0 and 1.\n",
    "    This method does not handle outliers, but all features will have the exact same scale. \n",
    "\n",
    "\n",
    "2. Z-Score normalization is a strategy of normalizing data that avoids outlier issue, but does not produced normalized data with the exact same scale. \n",
    "\n",
    "## Strategies to analyze predictive power of classification algorithm\n",
    "\n",
    "A. Accuracy - measures how many classifications the algorithm got correct out of every classification it made.\n",
    "Accuracy = True Positives + True Negatives /  True Positives + True Negatives +  False Positives + False Negatives\n",
    "\n",
    "B. Recall - measures the percentage of relevant items the algorithm was able to successfully find. \n",
    "\n",
    "Recall = True Positive / True Positive + False Negative\n",
    "\n",
    "\n",
    "C. Precision - measures the percentage of items the algorithm found that were actually relevant. \n",
    "\n",
    "Precision = True Positive / True Positive + False Positive\n",
    "\n",
    "\n",
    "D. F1 Score - combination of accuracy, recall and precision. \n",
    "\n",
    "F1 Score = 2 * Precision * Recall / (Precision + Recall)\n",
    "\n"
   ]
  },
  {
   "cell_type": "markdown",
   "id": "8de7192c",
   "metadata": {},
   "source": [
    "# Can we predict zodiac sign ?"
   ]
  },
  {
   "cell_type": "code",
   "execution_count": 48,
   "id": "42bc08cf",
   "metadata": {},
   "outputs": [],
   "source": [
    "from sklearn.model_selection import train_test_split\n",
    "from sklearn.neighbors import KNeighborsClassifier\n",
    "from sklearn.preprocessing import MinMaxScaler\n"
   ]
  },
  {
   "cell_type": "code",
   "execution_count": 49,
   "id": "e6b20554",
   "metadata": {},
   "outputs": [],
   "source": [
    "cols_for_KN = [\"drugs_code\", \"drinks_code\", \"smokes_code\", \"sign_clear\", \"essay_length_clean\", \"I_me_Freq\", \"essay_length_wo_spaces\", \"num_words\"]\n",
    "df_KN = df.dropna(subset = cols_for_KN)[cols_for_KN]\n",
    "df_KN = df_KN.drop(df_KN.query(\"num_words == 0\").index, axis = 0)\n",
    "df_KN[\"avg_word_len\"] = round(df_KN[\"essay_length_wo_spaces\"] / df_KN[\"num_words\"], 1)"
   ]
  },
  {
   "cell_type": "code",
   "execution_count": 50,
   "id": "deaf9500",
   "metadata": {},
   "outputs": [
    {
     "data": {
      "text/plain": [
       "drugs_code                0\n",
       "drinks_code               0\n",
       "smokes_code               0\n",
       "sign_clear                0\n",
       "essay_length_clean        0\n",
       "I_me_Freq                 0\n",
       "essay_length_wo_spaces    0\n",
       "num_words                 0\n",
       "avg_word_len              0\n",
       "dtype: int64"
      ]
     },
     "execution_count": 50,
     "metadata": {},
     "output_type": "execute_result"
    }
   ],
   "source": [
    "df_KN.isna().sum()"
   ]
  },
  {
   "cell_type": "code",
   "execution_count": 51,
   "id": "fc54d00d",
   "metadata": {},
   "outputs": [],
   "source": [
    "features = df_KN[[\"drugs_code\", \"drinks_code\", \"smokes_code\", \"essay_length_clean\", \"avg_word_len\"]]\n",
    "X = features.values\n",
    "labels = df_KN[[\"sign_clear\"]].values.reshape(-1,)"
   ]
  },
  {
   "cell_type": "code",
   "execution_count": 50,
   "id": "338eb16b",
   "metadata": {},
   "outputs": [
    {
     "data": {
      "image/png": "[encoded data removed]",
      "text/plain": [
       "<Figure size 432x288 with 1 Axes>"
      ]
     },
     "metadata": {
      "needs_background": "light"
     },
     "output_type": "display_data"
    }
   ],
   "source": [
    "training_data, validation_data, training_labels, validation_labels = train_test_split(X, labels, test_size = 0.2, random_state = 6)\n",
    "scaler = MinMaxScaler()\n",
    "training_data_scaled = scaler.fit_transform(training_data)\n",
    "validation_data_scaled = scaler.fit_transform(validation_data)\n",
    "\n",
    "neighbors_dict = {}\n",
    "for k in range(1,101):\n",
    "    classifier = KNeighborsClassifier(n_neighbors = k)\n",
    "    classifier.fit(training_data_scaled, training_labels)\n",
    "    r = classifier.score(validation_data_scaled, validation_labels)\n",
    "    neighbors_dict[k] = r\n",
    "\n",
    "x = list(neighbors_dict.keys())\n",
    "y = list(neighbors_dict.values())\n",
    "\n",
    "plt.plot(x,y)\n",
    "plt.xlabel(\"K-Neighbors\")\n",
    "plt.ylabel(\"Validation Accuracy\")\n",
    "plt.title(\"Classifier Accuracy\")\n",
    "plt.show();\n",
    "\n"
   ]
  },
  {
   "cell_type": "markdown",
   "id": "d5f2b9e3",
   "metadata": {},
   "source": [
    "# K-Nearest Neighbor Classifier and Regressor"
   ]
  },
  {
   "cell_type": "markdown",
   "id": "d3e8d424",
   "metadata": {},
   "source": [
    "K-Nearest Neighbor algorithm can be used for regression and classification. \n",
    "When k is small, overfitting occurs and the accuracy is relatively low. \n",
    "On the other hand, when k gets too large, underfitting occurs and accuracy starts to\n",
    "\n",
    "\n",
    "Classifier returns label as a single guess, regressor is returning a number. \n",
    "\n",
    "By using weighted average, data points that are extremely similar to the input point will have more of a say in the final results of regression. \n"
   ]
  },
  {
   "cell_type": "markdown",
   "id": "d6e562f1",
   "metadata": {},
   "source": [
    "# Can we predict income with age, education, job, sex and city?"
   ]
  },
  {
   "cell_type": "code",
   "execution_count": 94,
   "id": "bce754f8",
   "metadata": {},
   "outputs": [],
   "source": [
    "from sklearn.neighbors import KNeighborsRegressor\n",
    "\n",
    "cols_for_KNR = ['income_code', 'income', 'age', 'education_code', 'job_code', \n",
    "                'sex_code', 'Num_Langs_Fluently', 'Num_Langs_Okay', \n",
    "                'num_words', 'essay_length_clean', 'essay_length_wo_spaces',\n",
    "                'City_code', 'drugs_code', 'drinks_code', 'smokes_code',\n",
    "                'orientation_code', 'ethnicity_code'\n",
    "                ]\n",
    "\n",
    "df_KNR = df.query(\"State_code == 0\").dropna(subset = cols_for_KNR)[cols_for_KNR]\n",
    "df_KNR = df_KNR.drop(df_KNR.query(\"income < 0\").index, axis = 0)\n",
    "df_KNR = df_KNR.drop(df_KNR.query(\"num_words == 0\").index, axis = 0)\n",
    "df_KNR[\"avg_word_len\"] = round(df_KNR[\"essay_length_wo_spaces\"] / df_KNR[\"num_words\"], 1)"
   ]
  },
  {
   "cell_type": "code",
   "execution_count": 95,
   "id": "767c0fc6",
   "metadata": {},
   "outputs": [
    {
     "data": {
      "text/plain": [
       "1    4253\n",
       "2    2843\n",
       "3     850\n",
       "Name: income_code, dtype: int64"
      ]
     },
     "execution_count": 95,
     "metadata": {},
     "output_type": "execute_result"
    }
   ],
   "source": [
    "df_KNR[\"income_code\"].value_counts()"
   ]
  },
  {
   "cell_type": "code",
   "execution_count": 96,
   "id": "506af1a4",
   "metadata": {},
   "outputs": [],
   "source": [
    "features_KNR = df_KNR[['age', 'education_code', 'job_code', 'sex_code', 'City_code']]"
   ]
  },
  {
   "cell_type": "code",
   "execution_count": 97,
   "id": "41735288",
   "metadata": {},
   "outputs": [],
   "source": [
    "X_KNR = features_KNR.values\n",
    "Y_KNR = df_KNR[[\"income_code\"]].values.reshape(-1,)"
   ]
  },
  {
   "cell_type": "code",
   "execution_count": 98,
   "id": "71faf50c",
   "metadata": {},
   "outputs": [],
   "source": [
    "train_data, test_data, train_labels, test_labels = train_test_split(X_KNR, Y_KNR, test_size = 0.2, random_state = 6)"
   ]
  },
  {
   "cell_type": "code",
   "execution_count": 99,
   "id": "af2492f7",
   "metadata": {},
   "outputs": [],
   "source": [
    "scaler = MinMaxScaler()\n",
    "train_data_scaled = scaler.fit_transform(train_data)\n",
    "test_data_scaled = scaler.fit_transform(test_data)"
   ]
  },
  {
   "cell_type": "code",
   "execution_count": 100,
   "id": "e092be2b",
   "metadata": {},
   "outputs": [
    {
     "data": {
      "text/html": [
       "<div>\n",
       "<style scoped>\n",
       "    .dataframe tbody tr th:only-of-type {\n",
       "        vertical-align: middle;\n",
       "    }\n",
       "\n",
       "    .dataframe tbody tr th {\n",
       "        vertical-align: top;\n",
       "    }\n",
       "\n",
       "    .dataframe thead th {\n",
       "        text-align: right;\n",
       "    }\n",
       "</style>\n",
       "<table border=\"1\" class=\"dataframe\">\n",
       "  <thead>\n",
       "    <tr style=\"text-align: right;\">\n",
       "      <th></th>\n",
       "      <th>income_code</th>\n",
       "      <th>income</th>\n",
       "      <th>age</th>\n",
       "      <th>education_code</th>\n",
       "      <th>job_code</th>\n",
       "      <th>sex_code</th>\n",
       "      <th>Num_Langs_Fluently</th>\n",
       "      <th>Num_Langs_Okay</th>\n",
       "      <th>num_words</th>\n",
       "      <th>essay_length_clean</th>\n",
       "      <th>essay_length_wo_spaces</th>\n",
       "      <th>City_code</th>\n",
       "      <th>drugs_code</th>\n",
       "      <th>drinks_code</th>\n",
       "      <th>smokes_code</th>\n",
       "      <th>orientation_code</th>\n",
       "      <th>ethnicity_code</th>\n",
       "      <th>avg_word_len</th>\n",
       "    </tr>\n",
       "  </thead>\n",
       "  <tbody>\n",
       "    <tr>\n",
       "      <th>count</th>\n",
       "      <td>7946.000000</td>\n",
       "      <td>7946.000000</td>\n",
       "      <td>7946.000000</td>\n",
       "      <td>7946.000000</td>\n",
       "      <td>7946.000000</td>\n",
       "      <td>7946.000000</td>\n",
       "      <td>7946.000000</td>\n",
       "      <td>7946.000000</td>\n",
       "      <td>7946.000000</td>\n",
       "      <td>7946.000000</td>\n",
       "      <td>7946.000000</td>\n",
       "      <td>7946.000000</td>\n",
       "      <td>7946.000000</td>\n",
       "      <td>7946.000000</td>\n",
       "      <td>7946.000000</td>\n",
       "      <td>7946.000000</td>\n",
       "      <td>7946.000000</td>\n",
       "      <td>7946.000000</td>\n",
       "    </tr>\n",
       "    <tr>\n",
       "      <th>mean</th>\n",
       "      <td>1.571734</td>\n",
       "      <td>96503.901334</td>\n",
       "      <td>32.640700</td>\n",
       "      <td>2.634533</td>\n",
       "      <td>8.782910</td>\n",
       "      <td>0.283916</td>\n",
       "      <td>0.126227</td>\n",
       "      <td>0.211679</td>\n",
       "      <td>391.404984</td>\n",
       "      <td>2210.602441</td>\n",
       "      <td>1820.197458</td>\n",
       "      <td>1.999371</td>\n",
       "      <td>0.259502</td>\n",
       "      <td>1.863327</td>\n",
       "      <td>0.571357</td>\n",
       "      <td>0.181475</td>\n",
       "      <td>1.228291</td>\n",
       "      <td>4.561301</td>\n",
       "    </tr>\n",
       "    <tr>\n",
       "      <th>std</th>\n",
       "      <td>0.677389</td>\n",
       "      <td>187150.699477</td>\n",
       "      <td>10.106215</td>\n",
       "      <td>0.577824</td>\n",
       "      <td>5.949425</td>\n",
       "      <td>0.450925</td>\n",
       "      <td>0.368419</td>\n",
       "      <td>0.472525</td>\n",
       "      <td>339.058672</td>\n",
       "      <td>2127.263417</td>\n",
       "      <td>1796.780870</td>\n",
       "      <td>2.195854</td>\n",
       "      <td>0.476365</td>\n",
       "      <td>0.805079</td>\n",
       "      <td>1.152885</td>\n",
       "      <td>0.507255</td>\n",
       "      <td>1.898556</td>\n",
       "      <td>0.731574</td>\n",
       "    </tr>\n",
       "    <tr>\n",
       "      <th>min</th>\n",
       "      <td>1.000000</td>\n",
       "      <td>20000.000000</td>\n",
       "      <td>18.000000</td>\n",
       "      <td>1.000000</td>\n",
       "      <td>0.000000</td>\n",
       "      <td>0.000000</td>\n",
       "      <td>0.000000</td>\n",
       "      <td>0.000000</td>\n",
       "      <td>1.000000</td>\n",
       "      <td>2.000000</td>\n",
       "      <td>2.000000</td>\n",
       "      <td>0.000000</td>\n",
       "      <td>0.000000</td>\n",
       "      <td>0.000000</td>\n",
       "      <td>0.000000</td>\n",
       "      <td>0.000000</td>\n",
       "      <td>0.000000</td>\n",
       "      <td>1.500000</td>\n",
       "    </tr>\n",
       "    <tr>\n",
       "      <th>25%</th>\n",
       "      <td>1.000000</td>\n",
       "      <td>20000.000000</td>\n",
       "      <td>25.000000</td>\n",
       "      <td>2.000000</td>\n",
       "      <td>4.000000</td>\n",
       "      <td>0.000000</td>\n",
       "      <td>0.000000</td>\n",
       "      <td>0.000000</td>\n",
       "      <td>176.000000</td>\n",
       "      <td>955.250000</td>\n",
       "      <td>780.000000</td>\n",
       "      <td>0.000000</td>\n",
       "      <td>0.000000</td>\n",
       "      <td>2.000000</td>\n",
       "      <td>0.000000</td>\n",
       "      <td>0.000000</td>\n",
       "      <td>0.000000</td>\n",
       "      <td>4.200000</td>\n",
       "    </tr>\n",
       "    <tr>\n",
       "      <th>50%</th>\n",
       "      <td>1.000000</td>\n",
       "      <td>50000.000000</td>\n",
       "      <td>30.000000</td>\n",
       "      <td>3.000000</td>\n",
       "      <td>8.000000</td>\n",
       "      <td>0.000000</td>\n",
       "      <td>0.000000</td>\n",
       "      <td>0.000000</td>\n",
       "      <td>318.000000</td>\n",
       "      <td>1733.000000</td>\n",
       "      <td>1411.500000</td>\n",
       "      <td>1.000000</td>\n",
       "      <td>0.000000</td>\n",
       "      <td>2.000000</td>\n",
       "      <td>0.000000</td>\n",
       "      <td>0.000000</td>\n",
       "      <td>0.000000</td>\n",
       "      <td>4.400000</td>\n",
       "    </tr>\n",
       "    <tr>\n",
       "      <th>75%</th>\n",
       "      <td>2.000000</td>\n",
       "      <td>80000.000000</td>\n",
       "      <td>38.000000</td>\n",
       "      <td>3.000000</td>\n",
       "      <td>12.000000</td>\n",
       "      <td>1.000000</td>\n",
       "      <td>0.000000</td>\n",
       "      <td>0.000000</td>\n",
       "      <td>514.000000</td>\n",
       "      <td>2851.750000</td>\n",
       "      <td>2334.750000</td>\n",
       "      <td>5.000000</td>\n",
       "      <td>0.000000</td>\n",
       "      <td>2.000000</td>\n",
       "      <td>0.000000</td>\n",
       "      <td>0.000000</td>\n",
       "      <td>2.000000</td>\n",
       "      <td>4.700000</td>\n",
       "    </tr>\n",
       "    <tr>\n",
       "      <th>max</th>\n",
       "      <td>3.000000</td>\n",
       "      <td>1000000.000000</td>\n",
       "      <td>69.000000</td>\n",
       "      <td>4.000000</td>\n",
       "      <td>20.000000</td>\n",
       "      <td>1.000000</td>\n",
       "      <td>4.000000</td>\n",
       "      <td>4.000000</td>\n",
       "      <td>11262.000000</td>\n",
       "      <td>84149.000000</td>\n",
       "      <td>72888.000000</td>\n",
       "      <td>5.000000</td>\n",
       "      <td>2.000000</td>\n",
       "      <td>5.000000</td>\n",
       "      <td>4.000000</td>\n",
       "      <td>2.000000</td>\n",
       "      <td>6.000000</td>\n",
       "      <td>29.100000</td>\n",
       "    </tr>\n",
       "  </tbody>\n",
       "</table>\n",
       "</div>"
      ],
      "text/plain": [
       "       income_code          income          age  education_code     job_code  \\\n",
       "count  7946.000000     7946.000000  7946.000000     7946.000000  7946.000000   \n",
       "mean      1.571734    96503.901334    32.640700        2.634533     8.782910   \n",
       "std       0.677389   187150.699477    10.106215        0.577824     5.949425   \n",
       "min       1.000000    20000.000000    18.000000        1.000000     0.000000   \n",
       "25%       1.000000    20000.000000    25.000000        2.000000     4.000000   \n",
       "50%       1.000000    50000.000000    30.000000        3.000000     8.000000   \n",
       "75%       2.000000    80000.000000    38.000000        3.000000    12.000000   \n",
       "max       3.000000  1000000.000000    69.000000        4.000000    20.000000   \n",
       "\n",
       "          sex_code  Num_Langs_Fluently  Num_Langs_Okay     num_words  \\\n",
       "count  7946.000000         7946.000000     7946.000000   7946.000000   \n",
       "mean      0.283916            0.126227        0.211679    391.404984   \n",
       "std       0.450925            0.368419        0.472525    339.058672   \n",
       "min       0.000000            0.000000        0.000000      1.000000   \n",
       "25%       0.000000            0.000000        0.000000    176.000000   \n",
       "50%       0.000000            0.000000        0.000000    318.000000   \n",
       "75%       1.000000            0.000000        0.000000    514.000000   \n",
       "max       1.000000            4.000000        4.000000  11262.000000   \n",
       "\n",
       "       essay_length_clean  essay_length_wo_spaces    City_code   drugs_code  \\\n",
       "count         7946.000000             7946.000000  7946.000000  7946.000000   \n",
       "mean          2210.602441             1820.197458     1.999371     0.259502   \n",
       "std           2127.263417             1796.780870     2.195854     0.476365   \n",
       "min              2.000000                2.000000     0.000000     0.000000   \n",
       "25%            955.250000              780.000000     0.000000     0.000000   \n",
       "50%           1733.000000             1411.500000     1.000000     0.000000   \n",
       "75%           2851.750000             2334.750000     5.000000     0.000000   \n",
       "max          84149.000000            72888.000000     5.000000     2.000000   \n",
       "\n",
       "       drinks_code  smokes_code  orientation_code  ethnicity_code  \\\n",
       "count  7946.000000  7946.000000       7946.000000     7946.000000   \n",
       "mean      1.863327     0.571357          0.181475        1.228291   \n",
       "std       0.805079     1.152885          0.507255        1.898556   \n",
       "min       0.000000     0.000000          0.000000        0.000000   \n",
       "25%       2.000000     0.000000          0.000000        0.000000   \n",
       "50%       2.000000     0.000000          0.000000        0.000000   \n",
       "75%       2.000000     0.000000          0.000000        2.000000   \n",
       "max       5.000000     4.000000          2.000000        6.000000   \n",
       "\n",
       "       avg_word_len  \n",
       "count   7946.000000  \n",
       "mean       4.561301  \n",
       "std        0.731574  \n",
       "min        1.500000  \n",
       "25%        4.200000  \n",
       "50%        4.400000  \n",
       "75%        4.700000  \n",
       "max       29.100000  "
      ]
     },
     "execution_count": 100,
     "metadata": {},
     "output_type": "execute_result"
    }
   ],
   "source": [
    "df_KNR.describe()"
   ]
  },
  {
   "cell_type": "code",
   "execution_count": 102,
   "id": "74e06dd2",
   "metadata": {},
   "outputs": [
    {
     "name": "stdout",
     "output_type": "stream",
     "text": [
      "N-Neighbors = 1, Score: 0.5880503144654088\n",
      "N-Neighbors = 2, Score: 0.660377358490566\n",
      "N-Neighbors = 3, Score: 0.6509433962264151\n",
      "N-Neighbors = 4, Score: 0.6792452830188679\n",
      "N-Neighbors = 5, Score: 0.6723270440251572\n",
      "N-Neighbors = 6, Score: 0.6880503144654088\n",
      "N-Neighbors = 7, Score: 0.6779874213836478\n",
      "N-Neighbors = 8, Score: 0.6867924528301886\n",
      "N-Neighbors = 9, Score: 0.6830188679245283\n",
      "N-Neighbors = 10, Score: 0.6830188679245283\n",
      "N-Neighbors = 11, Score: 0.6855345911949685\n",
      "N-Neighbors = 12, Score: 0.6880503144654088\n",
      "N-Neighbors = 13, Score: 0.6874213836477987\n",
      "N-Neighbors = 14, Score: 0.6842767295597484\n",
      "N-Neighbors = 15, Score: 0.6911949685534591\n",
      "N-Neighbors = 16, Score: 0.690566037735849\n",
      "N-Neighbors = 17, Score: 0.6842767295597484\n",
      "N-Neighbors = 18, Score: 0.6849056603773584\n",
      "N-Neighbors = 19, Score: 0.690566037735849\n",
      "N-Neighbors = 20, Score: 0.6867924528301886\n",
      "N-Neighbors = 21, Score: 0.6924528301886792\n",
      "N-Neighbors = 22, Score: 0.6937106918238993\n",
      "N-Neighbors = 23, Score: 0.6949685534591195\n",
      "N-Neighbors = 24, Score: 0.6930817610062893\n",
      "N-Neighbors = 25, Score: 0.6930817610062893\n",
      "N-Neighbors = 26, Score: 0.6974842767295597\n",
      "N-Neighbors = 27, Score: 0.6962264150943396\n",
      "N-Neighbors = 28, Score: 0.6987421383647798\n",
      "N-Neighbors = 29, Score: 0.6955974842767295\n",
      "N-Neighbors = 30, Score: 0.6968553459119496\n",
      "N-Neighbors = 31, Score: 0.6974842767295597\n",
      "N-Neighbors = 32, Score: 0.6974842767295597\n",
      "N-Neighbors = 33, Score: 0.6968553459119496\n",
      "N-Neighbors = 34, Score: 0.7018867924528301\n",
      "N-Neighbors = 35, Score: 0.6937106918238993\n",
      "N-Neighbors = 36, Score: 0.7\n",
      "N-Neighbors = 37, Score: 0.6981132075471698\n",
      "N-Neighbors = 38, Score: 0.6987421383647798\n",
      "N-Neighbors = 39, Score: 0.6955974842767295\n",
      "N-Neighbors = 40, Score: 0.6943396226415094\n",
      "N-Neighbors = 41, Score: 0.6911949685534591\n",
      "N-Neighbors = 42, Score: 0.6930817610062893\n",
      "N-Neighbors = 43, Score: 0.6886792452830188\n",
      "N-Neighbors = 44, Score: 0.6937106918238993\n",
      "N-Neighbors = 45, Score: 0.6918238993710691\n",
      "N-Neighbors = 46, Score: 0.690566037735849\n",
      "N-Neighbors = 47, Score: 0.6880503144654088\n",
      "N-Neighbors = 48, Score: 0.689937106918239\n",
      "N-Neighbors = 49, Score: 0.6886792452830188\n",
      "N-Neighbors = 50, Score: 0.6880503144654088\n",
      "N-Neighbors = 51, Score: 0.690566037735849\n",
      "N-Neighbors = 52, Score: 0.6861635220125786\n",
      "N-Neighbors = 53, Score: 0.6886792452830188\n",
      "N-Neighbors = 54, Score: 0.6880503144654088\n",
      "N-Neighbors = 55, Score: 0.6893081761006289\n",
      "N-Neighbors = 56, Score: 0.6911949685534591\n",
      "N-Neighbors = 57, Score: 0.6886792452830188\n",
      "N-Neighbors = 58, Score: 0.6855345911949685\n",
      "N-Neighbors = 59, Score: 0.6874213836477987\n",
      "N-Neighbors = 60, Score: 0.6836477987421383\n",
      "N-Neighbors = 61, Score: 0.6867924528301886\n",
      "N-Neighbors = 62, Score: 0.689937106918239\n",
      "N-Neighbors = 63, Score: 0.6911949685534591\n",
      "N-Neighbors = 64, Score: 0.690566037735849\n",
      "N-Neighbors = 65, Score: 0.689937106918239\n",
      "N-Neighbors = 66, Score: 0.689937106918239\n",
      "N-Neighbors = 67, Score: 0.690566037735849\n",
      "N-Neighbors = 68, Score: 0.6911949685534591\n",
      "N-Neighbors = 69, Score: 0.6911949685534591\n",
      "N-Neighbors = 70, Score: 0.6918238993710691\n",
      "N-Neighbors = 71, Score: 0.689937106918239\n",
      "N-Neighbors = 72, Score: 0.6880503144654088\n",
      "N-Neighbors = 73, Score: 0.6880503144654088\n",
      "N-Neighbors = 74, Score: 0.689937106918239\n",
      "N-Neighbors = 75, Score: 0.6886792452830188\n",
      "N-Neighbors = 76, Score: 0.6867924528301886\n",
      "N-Neighbors = 77, Score: 0.6867924528301886\n",
      "N-Neighbors = 78, Score: 0.6867924528301886\n",
      "N-Neighbors = 79, Score: 0.6861635220125786\n",
      "N-Neighbors = 80, Score: 0.6855345911949685\n",
      "N-Neighbors = 81, Score: 0.6855345911949685\n",
      "N-Neighbors = 82, Score: 0.6861635220125786\n",
      "N-Neighbors = 83, Score: 0.6861635220125786\n",
      "N-Neighbors = 84, Score: 0.6880503144654088\n",
      "N-Neighbors = 85, Score: 0.6880503144654088\n",
      "N-Neighbors = 86, Score: 0.6886792452830188\n",
      "N-Neighbors = 87, Score: 0.6867924528301886\n",
      "N-Neighbors = 88, Score: 0.6849056603773584\n",
      "N-Neighbors = 89, Score: 0.6874213836477987\n",
      "N-Neighbors = 90, Score: 0.6836477987421383\n",
      "N-Neighbors = 91, Score: 0.6855345911949685\n",
      "N-Neighbors = 92, Score: 0.6861635220125786\n",
      "N-Neighbors = 93, Score: 0.6855345911949685\n",
      "N-Neighbors = 94, Score: 0.6855345911949685\n",
      "N-Neighbors = 95, Score: 0.6849056603773584\n",
      "N-Neighbors = 96, Score: 0.6867924528301886\n",
      "N-Neighbors = 97, Score: 0.6861635220125786\n",
      "N-Neighbors = 98, Score: 0.6849056603773584\n",
      "N-Neighbors = 99, Score: 0.6823899371069182\n",
      "N-Neighbors = 100, Score: 0.6817610062893081\n"
     ]
    },
    {
     "data": {
      "image/png": "[encoded data removed]",
      "text/plain": [
       "<Figure size 432x288 with 1 Axes>"
      ]
     },
     "metadata": {
      "needs_background": "light"
     },
     "output_type": "display_data"
    }
   ],
   "source": [
    "neighbors_dict_KNR = {}\n",
    "for k in range(1,101):\n",
    "    classifier = KNeighborsClassifier(n_neighbors = k)\n",
    "    classifier.fit(train_data_scaled, train_labels)\n",
    "    r = classifier.score(test_data_scaled, test_labels)\n",
    "    neighbors_dict_KNR[k] = r\n",
    "    print('N-Neighbors = {}, Score: {}'.format(k, r))\n",
    "    \n",
    "x = list(neighbors_dict_KNR.keys())\n",
    "y = list(neighbors_dict_KNR.values())\n",
    "\n",
    "plt.plot(x,y)\n",
    "plt.xlabel(\"K-Neighbors\")\n",
    "plt.ylabel(\"Validation Accuracy\")\n",
    "plt.title(\"Classifier Accuracy\")\n",
    "plt.show();"
   ]
  },
  {
   "cell_type": "markdown",
   "id": "979954b9",
   "metadata": {},
   "source": [
    "K-Nearest Neighbor is able to classify the income category with 70 % accuracy, for N_Neighbors = 35.\n",
    "\n",
    "It can be used for K-Neighbor Regression in the next step to predict the income value. "
   ]
  },
  {
   "cell_type": "code",
   "execution_count": 103,
   "id": "b4a73528",
   "metadata": {},
   "outputs": [],
   "source": [
    "# Features for K-Neighbors Regressor\n",
    "norm_features = scaler.fit_transform(features_KNR.values)"
   ]
  },
  {
   "cell_type": "code",
   "execution_count": 104,
   "id": "7b49dc34",
   "metadata": {},
   "outputs": [],
   "source": [
    "# Labels for K-Neighbors Regressor\n",
    "labels_KNR = df_KNR[[\"income\"]].values.reshape(-1,)"
   ]
  },
  {
   "cell_type": "code",
   "execution_count": 105,
   "id": "661ed46d",
   "metadata": {},
   "outputs": [
    {
     "data": {
      "text/plain": [
       "KNeighborsRegressor(n_neighbors=35, weights='distance')"
      ]
     },
     "execution_count": 105,
     "metadata": {},
     "output_type": "execute_result"
    }
   ],
   "source": [
    "regressor = KNeighborsRegressor(n_neighbors = 35, weights = \"distance\")\n",
    "regressor.fit(norm_features, labels_KNR)"
   ]
  },
  {
   "cell_type": "code",
   "execution_count": 106,
   "id": "269f9570",
   "metadata": {},
   "outputs": [
    {
     "data": {
      "text/plain": [
       "array([0.07843137, 0.66666667, 0.3       , 0.        , 0.        ])"
      ]
     },
     "execution_count": 106,
     "metadata": {},
     "output_type": "execute_result"
    }
   ],
   "source": [
    "norm_features[100]"
   ]
  },
  {
   "cell_type": "code",
   "execution_count": 107,
   "id": "065e92d3",
   "metadata": {},
   "outputs": [
    {
     "data": {
      "text/plain": [
       "60000"
      ]
     },
     "execution_count": 107,
     "metadata": {},
     "output_type": "execute_result"
    }
   ],
   "source": [
    "labels_KNR[100]"
   ]
  },
  {
   "cell_type": "code",
   "execution_count": 108,
   "id": "e73fa3d0",
   "metadata": {},
   "outputs": [
    {
     "data": {
      "text/plain": [
       "array([60000.17806389])"
      ]
     },
     "execution_count": 108,
     "metadata": {},
     "output_type": "execute_result"
    }
   ],
   "source": [
    "regressor.predict([[0.07843137, 0.66666667, 0.3       , 0.        , 0.        ]])"
   ]
  },
  {
   "cell_type": "markdown",
   "id": "1c199292",
   "metadata": {},
   "source": [
    "## Prediction"
   ]
  },
  {
   "cell_type": "markdown",
   "id": "9c1031a9",
   "metadata": {},
   "source": [
    "Age = 46\n",
    "\n",
    "education = PhD\n",
    "\n",
    "job = Computer / software\n",
    "\n",
    "Sex = Man\n",
    "\n",
    "City = San Francisco"
   ]
  },
  {
   "cell_type": "code",
   "execution_count": 109,
   "id": "add2c247",
   "metadata": {},
   "outputs": [],
   "source": [
    "guess_1 = [0.549, 1.0, 0.2, 0.0, 0.0]"
   ]
  },
  {
   "cell_type": "markdown",
   "id": "822b8481",
   "metadata": {},
   "source": [
    "Age = 27\n",
    "\n",
    "education = Elementary\n",
    "\n",
    "job = student\n",
    "\n",
    "Sex = Women\n",
    "\n",
    "City = Berkeley"
   ]
  },
  {
   "cell_type": "code",
   "execution_count": 110,
   "id": "3a9c9acd",
   "metadata": {},
   "outputs": [],
   "source": [
    "guess_2 = [0.17647058823529413, 0.0, 0.1, 1.0, 0.4]"
   ]
  },
  {
   "cell_type": "markdown",
   "id": "e939db5a",
   "metadata": {},
   "source": [
    "Age = 35\n",
    "\n",
    "education = Post secondary\n",
    "\n",
    "job = law services - 15\n",
    "\n",
    "Sex = Man\n",
    "\n",
    "City = Other in California"
   ]
  },
  {
   "cell_type": "code",
   "execution_count": 111,
   "id": "569ba6d7",
   "metadata": {},
   "outputs": [],
   "source": [
    "guess_3 = [0.333, 0.666, 0.75, 0.0, 1.0]"
   ]
  },
  {
   "cell_type": "code",
   "execution_count": 112,
   "id": "64b35393",
   "metadata": {},
   "outputs": [
    {
     "data": {
      "text/plain": [
       "array([208086.07253563, 113331.80354362, 122397.60523662])"
      ]
     },
     "execution_count": 112,
     "metadata": {},
     "output_type": "execute_result"
    }
   ],
   "source": [
    "regressor.predict([guess_1, guess_2, guess_3])"
   ]
  },
  {
   "cell_type": "code",
   "execution_count": 172,
   "id": "0c8736a0",
   "metadata": {},
   "outputs": [
    {
     "name": "stdout",
     "output_type": "stream",
     "text": [
      "Enter Age (18-69):33\n",
      "Enter Education ID: \n",
      "                        elementary: 1 \n",
      "                        secondary: 2 \n",
      "                        post-secondary: 3 \n",
      "                        PhD: 43\n",
      "Enter Job ID:    \n",
      "                        transportation : 0 \n",
      "                        hospitality / travel : 1 \n",
      "                        student : 2\n",
      "                        artistic / musical / writer : 3 \n",
      "                        computer / hardware / software : 4 \n",
      "                        banking / financial / real estate : 5 \n",
      "                        entertainment / media : 6\n",
      "                        sales / marketing / biz dev : 7 \n",
      "                        medicine / health : 8 \n",
      "                        science / tech / engineering : 9 \n",
      "                        executive / management : 10  \n",
      "                        education / academia : 11 \n",
      "                        clerical / administrative : 12 \n",
      "                        construction / craftsmanship : 13  \n",
      "                        political / government : 14 \n",
      "                        law / legal services : 15  \n",
      "                        military  : 16 \n",
      "                        unemployed : 17\n",
      "                        retired : 18\n",
      "                        rather not say : 19\n",
      "                        other :20...8\n",
      "Enter Sex: \n",
      "                         Male : 0\n",
      "                        Female : 1  \n",
      "                        1\n",
      "Enter City ID: \n",
      "                        san francisco : 0\n",
      "                        oakland : 1\n",
      "                        berkeley : 2\n",
      "                        san mateo : 3\n",
      "                        palo alto : 4\n",
      "                        other : 50\n",
      "Predicted income 65000.0 :\n"
     ]
    }
   ],
   "source": [
    "def normalize_input(df, input_list):\n",
    "    norm_list = []\n",
    "    for i in range(len(input_list)):\n",
    "        item = df.columns[i]\n",
    "        minimum = df[[item]].min()\n",
    "        maximum = df[[item]].max()\n",
    "        norm_value = float((input_list[i] - minimum) / (maximum - minimum))\n",
    "        norm_list.append(norm_value)\n",
    "    return norm_list   \n",
    "age = int(input(\"Enter Age (18-69):\"))\n",
    "\n",
    "education_id = int(input(\"\"\"Enter Education ID: \n",
    "                        elementary: 1 \n",
    "                        secondary: 2 \n",
    "                        post-secondary: 3 \n",
    "                        PhD: 4\"\"\"))\n",
    "\n",
    "job_id = int(input(\"\"\"Enter Job ID:    \n",
    "                        transportation : 0 \n",
    "                        hospitality / travel : 1 \n",
    "                        student : 2\n",
    "                        artistic / musical / writer : 3 \n",
    "                        computer / hardware / software : 4 \n",
    "                        banking / financial / real estate : 5 \n",
    "                        entertainment / media : 6\n",
    "                        sales / marketing / biz dev : 7 \n",
    "                        medicine / health : 8 \n",
    "                        science / tech / engineering : 9 \n",
    "                        executive / management : 10  \n",
    "                        education / academia : 11 \n",
    "                        clerical / administrative : 12 \n",
    "                        construction / craftsmanship : 13  \n",
    "                        political / government : 14 \n",
    "                        law / legal services : 15  \n",
    "                        military  : 16 \n",
    "                        unemployed : 17\n",
    "                        retired : 18\n",
    "                        rather not say : 19\n",
    "                        other :20...\"\"\"))\n",
    "\n",
    "sex = int(input(\"\"\"Enter Sex: \n",
    "                         Male : 0\n",
    "                        Female : 1  \n",
    "                        \"\"\"))\n",
    "\n",
    "city = int(input(\"\"\"Enter City ID: \n",
    "                        san francisco : 0\n",
    "                        oakland : 1\n",
    "                        berkeley : 2\n",
    "                        san mateo : 3\n",
    "                        palo alto : 4\n",
    "                        other : 5\"\"\"))\n",
    "inp_list = [age, education_id,  job_id, sex, city]\n",
    "\n",
    "norm_list = normalize_input(features_KNR, inp_list)\n",
    "\n",
    "print('Predicted income {} :'.format(round(regressor.predict([norm_list])[0],2)))"
   ]
  },
  {
   "cell_type": "markdown",
   "id": "a6cf77ee",
   "metadata": {},
   "source": [
    "# Can we predict vegetarianism based with body type, smokes, drugs and relationship to pets?"
   ]
  },
  {
   "cell_type": "markdown",
   "id": "ebdf6049",
   "metadata": {},
   "source": [
    "## Random Decision Forest"
   ]
  },
  {
   "cell_type": "markdown",
   "id": "e567f14c",
   "metadata": {},
   "source": [
    "Random forests are used to avoid overfitting. By aggregating the classification of multiple trees, having overfitted trees in a random forest is less impactful. \n",
    "\n",
    "Every decision tree in a random forest is created by using a different subset of data points from the training set. Those data points are chosen at random with replacement, which means a single data point can be chosen more than once. This process is known as bagging. "
   ]
  },
  {
   "cell_type": "code",
   "execution_count": 508,
   "id": "4654fc34",
   "metadata": {},
   "outputs": [
    {
     "data": {
      "text/html": [
       "<div>\n",
       "<style scoped>\n",
       "    .dataframe tbody tr th:only-of-type {\n",
       "        vertical-align: middle;\n",
       "    }\n",
       "\n",
       "    .dataframe tbody tr th {\n",
       "        vertical-align: top;\n",
       "    }\n",
       "\n",
       "    .dataframe thead th {\n",
       "        text-align: right;\n",
       "    }\n",
       "</style>\n",
       "<table border=\"1\" class=\"dataframe\">\n",
       "  <thead>\n",
       "    <tr style=\"text-align: right;\">\n",
       "      <th></th>\n",
       "      <th>age</th>\n",
       "      <th>body_type</th>\n",
       "      <th>diet</th>\n",
       "      <th>drinks</th>\n",
       "      <th>drugs</th>\n",
       "      <th>education</th>\n",
       "      <th>essay0</th>\n",
       "      <th>essay1</th>\n",
       "      <th>essay2</th>\n",
       "      <th>essay3</th>\n",
       "      <th>...</th>\n",
       "      <th>orientation_code</th>\n",
       "      <th>education_code</th>\n",
       "      <th>ethnicity_code</th>\n",
       "      <th>job_code</th>\n",
       "      <th>sex_code</th>\n",
       "      <th>State_code</th>\n",
       "      <th>City_code</th>\n",
       "      <th>body_type_code</th>\n",
       "      <th>pets_code</th>\n",
       "      <th>religion_clear_code</th>\n",
       "    </tr>\n",
       "  </thead>\n",
       "  <tbody>\n",
       "    <tr>\n",
       "      <th>0</th>\n",
       "      <td>22</td>\n",
       "      <td>a little extra</td>\n",
       "      <td>strictly anything</td>\n",
       "      <td>socially</td>\n",
       "      <td>never</td>\n",
       "      <td>working on college/university</td>\n",
       "      <td>about me:&lt;br /&gt;\\n&lt;br /&gt;\\ni would love to think...</td>\n",
       "      <td>currently working as an international agent fo...</td>\n",
       "      <td>making people laugh.&lt;br /&gt;\\nranting about a go...</td>\n",
       "      <td>the way i look. i am a six foot half asian, ha...</td>\n",
       "      <td>...</td>\n",
       "      <td>0</td>\n",
       "      <td>2.0</td>\n",
       "      <td>2.0</td>\n",
       "      <td>0.0</td>\n",
       "      <td>0</td>\n",
       "      <td>0</td>\n",
       "      <td>0</td>\n",
       "      <td>0.0</td>\n",
       "      <td>0.0</td>\n",
       "      <td>2.0</td>\n",
       "    </tr>\n",
       "    <tr>\n",
       "      <th>1</th>\n",
       "      <td>35</td>\n",
       "      <td>average</td>\n",
       "      <td>mostly other</td>\n",
       "      <td>often</td>\n",
       "      <td>sometimes</td>\n",
       "      <td>working on space camp</td>\n",
       "      <td>i am a chef: this is what that means.&lt;br /&gt;\\n1...</td>\n",
       "      <td>dedicating everyday to being an unbelievable b...</td>\n",
       "      <td>being silly. having ridiculous amonts of fun w...</td>\n",
       "      <td>NaN</td>\n",
       "      <td>...</td>\n",
       "      <td>0</td>\n",
       "      <td>1.0</td>\n",
       "      <td>0.0</td>\n",
       "      <td>1.0</td>\n",
       "      <td>0</td>\n",
       "      <td>0</td>\n",
       "      <td>1</td>\n",
       "      <td>6.0</td>\n",
       "      <td>0.0</td>\n",
       "      <td>2.0</td>\n",
       "    </tr>\n",
       "    <tr>\n",
       "      <th>2</th>\n",
       "      <td>38</td>\n",
       "      <td>thin</td>\n",
       "      <td>anything</td>\n",
       "      <td>socially</td>\n",
       "      <td>NaN</td>\n",
       "      <td>graduated from masters program</td>\n",
       "      <td>i'm not ashamed of much, but writing public te...</td>\n",
       "      <td>i make nerdy software for musicians, artists, ...</td>\n",
       "      <td>improvising in different contexts. alternating...</td>\n",
       "      <td>my large jaw and large glasses are the physica...</td>\n",
       "      <td>...</td>\n",
       "      <td>0</td>\n",
       "      <td>3.0</td>\n",
       "      <td>NaN</td>\n",
       "      <td>NaN</td>\n",
       "      <td>0</td>\n",
       "      <td>0</td>\n",
       "      <td>0</td>\n",
       "      <td>1.0</td>\n",
       "      <td>2.0</td>\n",
       "      <td>NaN</td>\n",
       "    </tr>\n",
       "    <tr>\n",
       "      <th>3</th>\n",
       "      <td>23</td>\n",
       "      <td>thin</td>\n",
       "      <td>vegetarian</td>\n",
       "      <td>socially</td>\n",
       "      <td>NaN</td>\n",
       "      <td>working on college/university</td>\n",
       "      <td>i work in a library and go to school. . .</td>\n",
       "      <td>reading things written by old dead people</td>\n",
       "      <td>playing synthesizers and organizing books acco...</td>\n",
       "      <td>socially awkward but i do my best</td>\n",
       "      <td>...</td>\n",
       "      <td>0</td>\n",
       "      <td>2.0</td>\n",
       "      <td>0.0</td>\n",
       "      <td>2.0</td>\n",
       "      <td>0</td>\n",
       "      <td>0</td>\n",
       "      <td>2</td>\n",
       "      <td>1.0</td>\n",
       "      <td>2.0</td>\n",
       "      <td>NaN</td>\n",
       "    </tr>\n",
       "    <tr>\n",
       "      <th>4</th>\n",
       "      <td>29</td>\n",
       "      <td>athletic</td>\n",
       "      <td>NaN</td>\n",
       "      <td>socially</td>\n",
       "      <td>never</td>\n",
       "      <td>graduated from college/university</td>\n",
       "      <td>hey how's it going? currently vague on the pro...</td>\n",
       "      <td>work work work work + play</td>\n",
       "      <td>creating imagery to look at:&lt;br /&gt;\\nhttp://bag...</td>\n",
       "      <td>i smile a lot and my inquisitive nature</td>\n",
       "      <td>...</td>\n",
       "      <td>0</td>\n",
       "      <td>3.0</td>\n",
       "      <td>3.0</td>\n",
       "      <td>3.0</td>\n",
       "      <td>0</td>\n",
       "      <td>0</td>\n",
       "      <td>0</td>\n",
       "      <td>4.0</td>\n",
       "      <td>0.0</td>\n",
       "      <td>NaN</td>\n",
       "    </tr>\n",
       "  </tbody>\n",
       "</table>\n",
       "<p>5 rows × 57 columns</p>\n",
       "</div>"
      ],
      "text/plain": [
       "   age       body_type               diet    drinks      drugs  \\\n",
       "0   22  a little extra  strictly anything  socially      never   \n",
       "1   35         average       mostly other     often  sometimes   \n",
       "2   38            thin           anything  socially        NaN   \n",
       "3   23            thin         vegetarian  socially        NaN   \n",
       "4   29        athletic                NaN  socially      never   \n",
       "\n",
       "                           education  \\\n",
       "0      working on college/university   \n",
       "1              working on space camp   \n",
       "2     graduated from masters program   \n",
       "3      working on college/university   \n",
       "4  graduated from college/university   \n",
       "\n",
       "                                              essay0  \\\n",
       "0  about me:<br />\\n<br />\\ni would love to think...   \n",
       "1  i am a chef: this is what that means.<br />\\n1...   \n",
       "2  i'm not ashamed of much, but writing public te...   \n",
       "3          i work in a library and go to school. . .   \n",
       "4  hey how's it going? currently vague on the pro...   \n",
       "\n",
       "                                              essay1  \\\n",
       "0  currently working as an international agent fo...   \n",
       "1  dedicating everyday to being an unbelievable b...   \n",
       "2  i make nerdy software for musicians, artists, ...   \n",
       "3          reading things written by old dead people   \n",
       "4                         work work work work + play   \n",
       "\n",
       "                                              essay2  \\\n",
       "0  making people laugh.<br />\\nranting about a go...   \n",
       "1  being silly. having ridiculous amonts of fun w...   \n",
       "2  improvising in different contexts. alternating...   \n",
       "3  playing synthesizers and organizing books acco...   \n",
       "4  creating imagery to look at:<br />\\nhttp://bag...   \n",
       "\n",
       "                                              essay3  ... orientation_code  \\\n",
       "0  the way i look. i am a six foot half asian, ha...  ...                0   \n",
       "1                                                NaN  ...                0   \n",
       "2  my large jaw and large glasses are the physica...  ...                0   \n",
       "3                  socially awkward but i do my best  ...                0   \n",
       "4            i smile a lot and my inquisitive nature  ...                0   \n",
       "\n",
       "  education_code ethnicity_code job_code sex_code State_code City_code  \\\n",
       "0            2.0            2.0      0.0        0          0         0   \n",
       "1            1.0            0.0      1.0        0          0         1   \n",
       "2            3.0            NaN      NaN        0          0         0   \n",
       "3            2.0            0.0      2.0        0          0         2   \n",
       "4            3.0            3.0      3.0        0          0         0   \n",
       "\n",
       "   body_type_code  pets_code religion_clear_code  \n",
       "0             0.0        0.0                 2.0  \n",
       "1             6.0        0.0                 2.0  \n",
       "2             1.0        2.0                 NaN  \n",
       "3             1.0        2.0                 NaN  \n",
       "4             4.0        0.0                 NaN  \n",
       "\n",
       "[5 rows x 57 columns]"
      ]
     },
     "execution_count": 508,
     "metadata": {},
     "output_type": "execute_result"
    }
   ],
   "source": [
    "df.head()"
   ]
  },
  {
   "cell_type": "code",
   "execution_count": 46,
   "id": "c4da402d",
   "metadata": {},
   "outputs": [],
   "source": [
    "import seaborn as sns\n",
    "from sklearn import tree\n",
    "from sklearn.ensemble import RandomForestClassifier\n",
    "from sklearn.model_selection import train_test_split\n",
    "from sklearn.metrics import confusion_matrix\n",
    "from sklearn.metrics import accuracy_score\n",
    "from sklearn.metrics import recall_score\n",
    "from sklearn.metrics import precision_score\n",
    "from sklearn.metrics import f1_score\n",
    "from sklearn.metrics import roc_auc_score\n",
    "from sklearn.utils import resample\n",
    "from sklearn.metrics import roc_curve"
   ]
  },
  {
   "cell_type": "code",
   "execution_count": 126,
   "id": "c01bed19",
   "metadata": {},
   "outputs": [],
   "source": [
    "RFC_df = df[[\"diet_code\", \"smokes_code\", \"drugs_code\", \"body_type_code\", \"pets_code\", \"orientation_code\",\n",
    "            \"religion_clear_code\", \"education_code\", \"sex_code\", \"job_code\", \"City_code\", \"ethnicity_code\"]].dropna()\n",
    "veg_codes = [6, 7, 8, 9 ,10, 11]\n",
    "RFC_df[\"veg_status\"] = RFC_df.apply(lambda row: 1 if row[\"diet_code\"] in veg_codes else 0, axis = 1)"
   ]
  },
  {
   "cell_type": "code",
   "execution_count": 135,
   "id": "74c2a287",
   "metadata": {},
   "outputs": [
    {
     "data": {
      "image/png": "[encoded data removed]",
      "text/plain": [
       "<Figure size 864x1296 with 6 Axes>"
      ]
     },
     "metadata": {
      "needs_background": "light"
     },
     "output_type": "display_data"
    }
   ],
   "source": [
    "fig, axes = plt.subplots(3,2, figsize=(12,18))\n",
    "([ax1, ax2], [ax3, ax4], [ax5, ax6]) = axes\n",
    "axs = [ax1, ax2, ax3, ax4, ax5, ax6]\n",
    "    \n",
    "titles = ['Drug Use and Vegetarianims', \n",
    "          'Smokes and Vegetarianims', \n",
    "          'Body Type and Vegetarianims', \n",
    "          'Relationship with Pets and Vegetarianims', \n",
    "          'Sexual Orientation and Vegetarianims',\n",
    "          'Religion and Vegetarianims']\n",
    "\n",
    "xlabels = ['Drug Use Frequency', 'Smokes Frequency', 'Body Type', 'Relationship with Pets', 'Sexual Orientation', 'Religion']\n",
    "ylabels = 'Number of OKCupid Users'\n",
    "x_ticks_labels = [[\"never\", \"sometimes\", \"often\"], \n",
    "                  ['no', 'when drinking', 'sometimes', 'trying to quit', 'yes'],\n",
    "                  ['a little extra', 'thin', 'skinny', 'fit', 'athletic', 'jacked', 'average', 'used up', 'curvy', 'full figured','overweight', 'overweight'],\n",
    "                  ['Like Dogs and Cats', 'Like Dogs', 'Like Cats', 'Dislike Dogs and Cats'],\n",
    "                  ['Straight', 'Gay', 'Bisexual'],\n",
    "                  ['atheism', 'other', 'agnosticism', 'christianity', 'catholicism', 'judaism', 'buddhism', 'hinduism', 'islam']\n",
    "                 ]\n",
    "\n",
    "columns = [\"drugs_code\", \"smokes_code\", \"body_type_code\", \"pets_code\", \"orientation_code\", \"religion_clear_code\"]\n",
    "\n",
    "for i, ax in enumerate(axs):\n",
    "    df_a = RFC_df.query(\"veg_status == 1\").assign(count = 1).groupby(columns[i]).count()[[\"count\"]].assign(Category = \"Vegeterians\")\n",
    "    df_b = RFC_df.query(\"veg_status == 0\").assign(count = 1).groupby(columns[i]).count()[[\"count\"]].assign(Category = \"Non-Vegeterians\")\n",
    "    df_plot = pd.concat([df_a, df_b], axis = 0)\n",
    "    sns.barplot(x = df_plot.index, y = 'count', hue = 'Category', data = df_plot, ax=ax, edgecolor = 'black', palette=\"Set1\");\n",
    "    ax.set_title(titles[i], fontsize=16, y= 1.03)\n",
    "    ax.set_xlabel(xlabels[i], fontsize=14)\n",
    "    ax.set_ylabel(ylabels, fontsize=14)\n",
    "    ax.set_xticklabels(labels = x_ticks_labels[i], rotation = 25)\n",
    "    ax.grid()\n",
    "    plt.tight_layout();\n"
   ]
  },
  {
   "cell_type": "markdown",
   "id": "88a7ae30",
   "metadata": {},
   "source": [
    "### Imbalance Data Handling"
   ]
  },
  {
   "cell_type": "markdown",
   "id": "e6d0f12b",
   "metadata": {},
   "source": [
    "Data set is obviously imbalanced. \n",
    "Classifier usually predicts mostly the same value which is resulting in very high accuracy of classification. \n",
    "The traditional approach of classification and model accuracy calculation is therefore not useful in the case of the imbalanced dataset.\n",
    "\n",
    "The other metrics such as precision is the measure of how accurate the classifier’s prediction of a specific class and recall is the measure of the classifier’s ability to identify a class.\n",
    "\n",
    "For an imbalanced class dataset F1 score is a more appropriate metric. \n",
    "\n",
    "Resampling: \n",
    "This technique is used to upsample or downsample the minority or majority class. When we are using an imbalanced dataset, we can oversample the minority class using replacement. This technique is called oversampling. Similarly, we can randomly delete rows from the majority class to match them with the minority class which is called undersampling."
   ]
  },
  {
   "cell_type": "markdown",
   "id": "6a43e7a8",
   "metadata": {},
   "source": [
    "### Data Resampling"
   ]
  },
  {
   "cell_type": "markdown",
   "id": "3038c9a8",
   "metadata": {},
   "source": [
    "Data set has been resampled and minority part has been upscaled to match majority class."
   ]
  },
  {
   "cell_type": "code",
   "execution_count": 754,
   "id": "57c70984",
   "metadata": {},
   "outputs": [],
   "source": [
    "#create two different dataframe of majority and minority class \n",
    "df_majority = RFC_df[(RFC_df['veg_status']==0)] \n",
    "df_minority = RFC_df[(RFC_df['veg_status']==1)] \n",
    "# upsample minority class\n",
    "df_minority_upsampled = resample(df_minority, \n",
    "                                 replace=True,    # sample with replacement\n",
    "                                 n_samples= 11049, # to match majority class\n",
    "                                 random_state=42)  # reproducible results\n",
    "# Combine majority class with upsampled minority class\n",
    "df_upsampled = pd.concat([df_minority_upsampled, df_majority])"
   ]
  },
  {
   "cell_type": "markdown",
   "id": "3be51f49",
   "metadata": {},
   "source": [
    "Number of values after upsampling are as follows:"
   ]
  },
  {
   "cell_type": "code",
   "execution_count": 781,
   "id": "0b4f9d1c",
   "metadata": {},
   "outputs": [
    {
     "data": {
      "text/plain": [
       "0    11049\n",
       "1    11049\n",
       "Name: veg_status, dtype: int64"
      ]
     },
     "execution_count": 781,
     "metadata": {},
     "output_type": "execute_result"
    }
   ],
   "source": [
    "df_upsampled.veg_status.value_counts()"
   ]
  },
  {
   "cell_type": "code",
   "execution_count": 802,
   "id": "b85f066b",
   "metadata": {},
   "outputs": [],
   "source": [
    "X_RFC = df_upsampled[[\"smokes_code\", \n",
    "                      \"drugs_code\", \n",
    "                      \"body_type_code\", \n",
    "                      \"orientation_code\", \n",
    "                      \"religion_clear_code\", \n",
    "                      \"sex_code\", \n",
    "                      \"City_code\", \n",
    "                      \"ethnicity_code\"\n",
    "                     ]]\n",
    "Y_RFC = df_upsampled[[\"veg_status\"]].values.reshape(-1,)"
   ]
  },
  {
   "cell_type": "code",
   "execution_count": 783,
   "id": "57b8bbd5",
   "metadata": {},
   "outputs": [],
   "source": [
    "X_train, X_test, Y_train, Y_test = train_test_split(X_RFC, Y_RFC, test_size = 0.2, random_state = 1)"
   ]
  },
  {
   "cell_type": "code",
   "execution_count": 784,
   "id": "27cea86a",
   "metadata": {},
   "outputs": [
    {
     "data": {
      "text/plain": [
       "RandomForestClassifier(random_state=42)"
      ]
     },
     "execution_count": 784,
     "metadata": {},
     "output_type": "execute_result"
    }
   ],
   "source": [
    "forest = RandomForestClassifier(n_estimators = 100, random_state = 42)\n",
    "forest.fit(X_train, Y_train)"
   ]
  },
  {
   "cell_type": "code",
   "execution_count": 785,
   "id": "e0c73814",
   "metadata": {},
   "outputs": [],
   "source": [
    "y_predicted = forest.predict(X_test)"
   ]
  },
  {
   "cell_type": "markdown",
   "id": "f1898487",
   "metadata": {},
   "source": [
    "Decission Tree Forest classifier has been train and following score parameters have been achieved:"
   ]
  },
  {
   "cell_type": "code",
   "execution_count": 786,
   "id": "95dd9269",
   "metadata": {},
   "outputs": [
    {
     "name": "stdout",
     "output_type": "stream",
     "text": [
      "Recall score: 0.838\n",
      "Accuracy score: 0.786\n",
      "Precision score: 0.7655\n",
      "F1 score: 0.8001\n"
     ]
    }
   ],
   "source": [
    "print('Recall score: {}'.format(round(recall_score(Y_test, y_predicted), 4)))\n",
    "print('Accuracy score: {}'.format(round(accuracy_score(Y_test, y_predicted), 4)))\n",
    "print('Precision score: {}'.format(round(precision_score(Y_test, y_predicted), 4)))\n",
    "print('F1 score: {}'.format(round(f1_score(Y_test, y_predicted), 4)))"
   ]
  },
  {
   "cell_type": "code",
   "execution_count": 787,
   "id": "9754e0a5",
   "metadata": {},
   "outputs": [],
   "source": [
    "ConfusionMatrix = confusion_matrix(Y_test, y_predicted)"
   ]
  },
  {
   "cell_type": "markdown",
   "id": "ec10512d",
   "metadata": {},
   "source": [
    "Number of true negatives, true positives, false negatives and false positives are as follows:"
   ]
  },
  {
   "cell_type": "code",
   "execution_count": 788,
   "id": "ec22b738",
   "metadata": {},
   "outputs": [
    {
     "name": "stdout",
     "output_type": "stream",
     "text": [
      "True Negative: 1581\n",
      "True Positive: 1893\n",
      "False Negative: 366\n",
      "False Positive: 580\n"
     ]
    }
   ],
   "source": [
    "print('True Negative: {}'.format(ConfusionMatrix[0][0]))\n",
    "print('True Positive: {}'.format(ConfusionMatrix[1][1]))\n",
    "print('False Negative: {}'.format(ConfusionMatrix[1][0]))\n",
    "print('False Positive: {}'.format(ConfusionMatrix[0][1]))"
   ]
  },
  {
   "cell_type": "code",
   "execution_count": 790,
   "id": "4882cd9f",
   "metadata": {},
   "outputs": [
    {
     "name": "stdout",
     "output_type": "stream",
     "text": [
      "Test score: 0.785972850678733\n"
     ]
    }
   ],
   "source": [
    "score_test = forest.score(X_test, Y_test)\n",
    "print('Test score: {}'.format(score_test))"
   ]
  },
  {
   "cell_type": "code",
   "execution_count": 789,
   "id": "b0c4206e",
   "metadata": {},
   "outputs": [
    {
     "name": "stdout",
     "output_type": "stream",
     "text": [
      "Train score: 0.8252064713202851\n"
     ]
    }
   ],
   "source": [
    "score_train = forest.score(X_train, Y_train)\n",
    "print('Train score: {}'.format(score_train))"
   ]
  },
  {
   "cell_type": "markdown",
   "id": "0781eca4",
   "metadata": {},
   "source": [
    "Upscaling applied on the data set before splitting to training and validation set leads to repeating the labels and the algorithm has a perfect Recall Score of 84 %. It is too optimistic results and is supposed to be totally wrong. Due to data leakage from train set to test set we have exactly same data in the testing and validation set."
   ]
  },
  {
   "cell_type": "markdown",
   "id": "9d4503c6",
   "metadata": {},
   "source": [
    "### Resampling applied on the training set exclusively"
   ]
  },
  {
   "cell_type": "code",
   "execution_count": 318,
   "id": "bd99a735",
   "metadata": {},
   "outputs": [],
   "source": [
    "RFC_df = df[[\"diet_code\", \"smokes_code\", \"drugs_code\", \"body_type_code\", \"pets_code\", \"orientation_code\",\n",
    "            \"religion_clear_code\", \"education_code\", \"sex_code\", \"job_code\", \"City_code\", \"ethnicity_code\"]].dropna()\n",
    "veg_codes = [6, 7, 8, 9 ,10, 11]\n",
    "RFC_df[\"veg_status\"] = RFC_df.apply(lambda row: 1 if row[\"diet_code\"] in veg_codes else 0, axis = 1)"
   ]
  },
  {
   "cell_type": "code",
   "execution_count": 350,
   "id": "11a6e206",
   "metadata": {},
   "outputs": [],
   "source": [
    "X_RFC = RFC_df[[\"smokes_code\", \n",
    "                \"drugs_code\", \n",
    "                \"body_type_code\", \n",
    "                \"orientation_code\"\n",
    "                #\"religion_clear_code\" \n",
    "                #\"sex_code\", \n",
    "                #\"City_code\", \n",
    "                #\"ethnicity_code\"\n",
    "               ]]\n",
    "Y_RFC = RFC_df[[\"veg_status\"]]"
   ]
  },
  {
   "cell_type": "code",
   "execution_count": 351,
   "id": "72be49ff",
   "metadata": {},
   "outputs": [],
   "source": [
    "X_train, X_test, Y_train, Y_test = train_test_split(X_RFC, Y_RFC, test_size = 0.2, random_state = 1)"
   ]
  },
  {
   "cell_type": "code",
   "execution_count": 352,
   "id": "ec31a024",
   "metadata": {},
   "outputs": [],
   "source": [
    "train_set = X_train.join(Y_train)"
   ]
  },
  {
   "cell_type": "code",
   "execution_count": 353,
   "id": "937d8f8a",
   "metadata": {},
   "outputs": [],
   "source": [
    "df_majority = train_set[(train_set['veg_status']==0)] \n",
    "df_minority = train_set[(train_set['veg_status']==1)] \n",
    "# upsample minority class\n",
    "df_minority_upsampled = resample(df_minority, \n",
    "                                 replace=True,    # sample with replacement\n",
    "                                 n_samples= 8824, # to match majority class\n",
    "                                 random_state=42)  # reproducible results\n",
    "# Combine majority class with upsampled minority class\n",
    "df_upsampled = pd.concat([df_minority_upsampled, df_majority])"
   ]
  },
  {
   "cell_type": "code",
   "execution_count": 354,
   "id": "0e52dfdb",
   "metadata": {},
   "outputs": [
    {
     "data": {
      "text/plain": [
       "0    8824\n",
       "1    8824\n",
       "Name: veg_status, dtype: int64"
      ]
     },
     "execution_count": 354,
     "metadata": {},
     "output_type": "execute_result"
    }
   ],
   "source": [
    "df_upsampled.veg_status.value_counts()"
   ]
  },
  {
   "cell_type": "code",
   "execution_count": 356,
   "id": "18d22da1",
   "metadata": {},
   "outputs": [],
   "source": [
    "X_train_resampled = df_upsampled[[\"smokes_code\", \n",
    "                      \"drugs_code\", \n",
    "                      \"body_type_code\", \n",
    "                      \"orientation_code\"\n",
    "                      #\"religion_clear_code\"  \n",
    "                      #\"sex_code\", \n",
    "                      #\"City_code\", \n",
    "                      #\"ethnicity_code\"\n",
    "                     ]]\n",
    "Y_train_resampled = df_upsampled[[\"veg_status\"]].values.reshape(-1,)"
   ]
  },
  {
   "cell_type": "code",
   "execution_count": 357,
   "id": "21ac8454",
   "metadata": {},
   "outputs": [
    {
     "data": {
      "text/plain": [
       "RandomForestClassifier(random_state=42)"
      ]
     },
     "execution_count": 357,
     "metadata": {},
     "output_type": "execute_result"
    }
   ],
   "source": [
    "forest = RandomForestClassifier(n_estimators = 100, random_state = 42)\n",
    "forest.fit(X_train_resampled, Y_train_resampled)"
   ]
  },
  {
   "cell_type": "code",
   "execution_count": 358,
   "id": "3f6ebe0d",
   "metadata": {},
   "outputs": [],
   "source": [
    "y_predicted = forest.predict(X_test)"
   ]
  },
  {
   "cell_type": "code",
   "execution_count": 359,
   "id": "9909658b",
   "metadata": {},
   "outputs": [
    {
     "name": "stdout",
     "output_type": "stream",
     "text": [
      "Recall score: 0.5387\n",
      "Accuracy score: 0.5656\n",
      "Precision score: 0.1794\n",
      "F1 score: 0.2692\n"
     ]
    }
   ],
   "source": [
    "print('Recall score: {}'.format(round(recall_score(Y_test, y_predicted), 4)))\n",
    "print('Accuracy score: {}'.format(round(accuracy_score(Y_test, y_predicted), 4)))\n",
    "print('Precision score: {}'.format(round(precision_score(Y_test, y_predicted), 4)))\n",
    "print('F1 score: {}'.format(round(f1_score(Y_test, y_predicted), 4)))"
   ]
  },
  {
   "cell_type": "markdown",
   "id": "f6ec70f6",
   "metadata": {},
   "source": [
    "Recall score get worse to 54 % . Classifier score is very poor!"
   ]
  },
  {
   "cell_type": "code",
   "execution_count": 173,
   "id": "56670d8c",
   "metadata": {},
   "outputs": [
    {
     "data": {
      "text/plain": [
       "Index(['age', 'body_type', 'diet', 'drinks', 'drugs', 'education', 'essay0',\n",
       "       'essay1', 'essay2', 'essay3', 'essay4', 'essay5', 'essay6', 'essay7',\n",
       "       'essay8', 'essay9', 'ethnicity', 'height', 'income', 'job',\n",
       "       'last_online', 'location', 'offspring', 'orientation', 'pets',\n",
       "       'religion', 'sex', 'sign', 'smokes', 'speaks', 'status',\n",
       "       'Num_Langs_Fluently', 'Num_Langs_Okay', 'State', 'City',\n",
       "       'religion_clear', 'sign_clear', 'essays_combined', 'I_me_Freq',\n",
       "       'num_words', 'essay_length_clean', 'essay_length_wo_spaces',\n",
       "       'income_code', 'diet_code', 'drugs_code', 'drinks_code', 'smokes_code',\n",
       "       'orientation_code', 'education_code', 'ethnicity_code', 'job_code',\n",
       "       'sex_code', 'State_code', 'City_code', 'body_type_code', 'pets_code',\n",
       "       'religion_clear_code'],\n",
       "      dtype='object')"
      ]
     },
     "execution_count": 173,
     "metadata": {},
     "output_type": "execute_result"
    }
   ],
   "source": [
    "df.columns"
   ]
  },
  {
   "cell_type": "code",
   "execution_count": 316,
   "id": "47c483b1",
   "metadata": {},
   "outputs": [
    {
     "data": {
      "text/plain": [
       "single            55697\n",
       "seeing someone     2064\n",
       "available          1865\n",
       "married             310\n",
       "unknown              10\n",
       "Name: status, dtype: int64"
      ]
     },
     "execution_count": 316,
     "metadata": {},
     "output_type": "execute_result"
    }
   ],
   "source": [
    "df.status.value_counts()"
   ]
  },
  {
   "cell_type": "code",
   "execution_count": 317,
   "id": "4a8f22ce",
   "metadata": {},
   "outputs": [
    {
     "data": {
      "text/plain": [
       "agnosticism                                   2724\n",
       "other                                         2691\n",
       "agnosticism but not too serious about it      2636\n",
       "agnosticism and laughing about it             2496\n",
       "catholicism but not too serious about it      2318\n",
       "atheism                                       2175\n",
       "other and laughing about it                   2119\n",
       "atheism and laughing about it                 2074\n",
       "christianity                                  1957\n",
       "christianity but not too serious about it     1952\n",
       "other but not too serious about it            1554\n",
       "judaism but not too serious about it          1517\n",
       "atheism but not too serious about it          1318\n",
       "catholicism                                   1064\n",
       "christianity and somewhat serious about it     927\n",
       "atheism and somewhat serious about it          848\n",
       "other and somewhat serious about it            846\n",
       "catholicism and laughing about it              726\n",
       "judaism and laughing about it                  681\n",
       "buddhism but not too serious about it          650\n",
       "agnosticism and somewhat serious about it      642\n",
       "judaism                                        612\n",
       "christianity and very serious about it         578\n",
       "atheism and very serious about it              570\n",
       "catholicism and somewhat serious about it      548\n",
       "other and very serious about it                533\n",
       "buddhism and laughing about it                 466\n",
       "buddhism                                       403\n",
       "christianity and laughing about it             373\n",
       "buddhism and somewhat serious about it         359\n",
       "agnosticism and very serious about it          314\n",
       "judaism and somewhat serious about it          266\n",
       "hinduism but not too serious about it          227\n",
       "hinduism                                       107\n",
       "catholicism and very serious about it          102\n",
       "buddhism and very serious about it              70\n",
       "hinduism and somewhat serious about it          58\n",
       "islam                                           48\n",
       "hinduism and laughing about it                  44\n",
       "islam but not too serious about it              40\n",
       "judaism and very serious about it               22\n",
       "islam and somewhat serious about it             22\n",
       "islam and laughing about it                     16\n",
       "hinduism and very serious about it              14\n",
       "islam and very serious about it                 13\n",
       "Name: religion, dtype: int64"
      ]
     },
     "execution_count": 317,
     "metadata": {},
     "output_type": "execute_result"
    }
   ],
   "source": [
    "df.religion.value_counts()"
   ]
  },
  {
   "cell_type": "markdown",
   "id": "551a1e05",
   "metadata": {},
   "source": [
    "# Can we predict sexual orientation based on offspring, religion and drugs?"
   ]
  },
  {
   "cell_type": "code",
   "execution_count": 71,
   "id": "3a383679",
   "metadata": {},
   "outputs": [],
   "source": [
    "from sklearn.svm import SVC\n",
    "from sklearn.model_selection import train_test_split\n",
    "from sklearn.preprocessing import MinMaxScaler\n",
    "from sklearn.model_selection import cross_val_score\n",
    "from sklearn.model_selection import train_test_split, GridSearchCV, StratifiedKFold"
   ]
  },
  {
   "cell_type": "code",
   "execution_count": 72,
   "id": "a816d250",
   "metadata": {},
   "outputs": [
    {
     "data": {
      "text/plain": [
       "array([1.e-03, 1.e-02, 1.e-01, 1.e+00, 1.e+01, 1.e+02, 1.e+03])"
      ]
     },
     "execution_count": 72,
     "metadata": {},
     "output_type": "execute_result"
    }
   ],
   "source": [
    "np.logspace(-3, 3, 7)"
   ]
  },
  {
   "cell_type": "code",
   "execution_count": 73,
   "id": "3cdd4ae2",
   "metadata": {},
   "outputs": [
    {
     "data": {
      "text/plain": [
       "array([1.e-03, 1.e-02, 1.e-01, 1.e+00, 1.e+01, 1.e+02])"
      ]
     },
     "execution_count": 73,
     "metadata": {},
     "output_type": "execute_result"
    }
   ],
   "source": [
    "np.logspace(-3, 2, 6)"
   ]
  },
  {
   "cell_type": "code",
   "execution_count": 173,
   "id": "24134249",
   "metadata": {},
   "outputs": [],
   "source": [
    "scaler = MinMaxScaler()\n",
    "classifier = SVC(kernel = 'rbf')"
   ]
  },
  {
   "cell_type": "code",
   "execution_count": 144,
   "id": "f68d19b8",
   "metadata": {},
   "outputs": [],
   "source": [
    "df_SVC = df[[\"orientation_code\", \"offspring_code\", \"religion_clear_code\", \"drugs_code\"]].dropna()"
   ]
  },
  {
   "cell_type": "code",
   "execution_count": 145,
   "id": "02f2640f",
   "metadata": {},
   "outputs": [
    {
     "data": {
      "text/plain": [
       "orientation_code\n",
       "0                   12859\n",
       "1                     986\n",
       "2                     764\n",
       "dtype: int64"
      ]
     },
     "execution_count": 145,
     "metadata": {},
     "output_type": "execute_result"
    }
   ],
   "source": [
    "df_SVC[[\"orientation_code\"]].value_counts()"
   ]
  },
  {
   "cell_type": "code",
   "execution_count": 151,
   "id": "51f0f207",
   "metadata": {},
   "outputs": [],
   "source": [
    "df_SVC_straight = df_SVC[df_SVC['orientation_code']==0].sample(764)\n",
    "df_SVC_gay = df_SVC[df_SVC['orientation_code']==1].sample(764)\n",
    "df_SVC_bisexual = df_SVC[df_SVC['orientation_code']==2].sample(764)\n",
    "\n",
    "df_SVC_resampled = pd.concat([df_SVC_straight, df_SVC_gay, df_SVC_bisexual])"
   ]
  },
  {
   "cell_type": "code",
   "execution_count": 152,
   "id": "e12b3d9b",
   "metadata": {},
   "outputs": [
    {
     "data": {
      "text/plain": [
       "0    764\n",
       "2    764\n",
       "1    764\n",
       "Name: orientation_code, dtype: int64"
      ]
     },
     "execution_count": 152,
     "metadata": {},
     "output_type": "execute_result"
    }
   ],
   "source": [
    "df_SVC_resampled.orientation_code.value_counts()"
   ]
  },
  {
   "cell_type": "code",
   "execution_count": 160,
   "id": "b407628b",
   "metadata": {},
   "outputs": [],
   "source": [
    "X = df_SVC_resampled[[\"offspring_code\", \"religion_clear_code\", \"drugs_code\"]]\n",
    "y = df_SVC_resampled[[\"orientation_code\"]].values.flatten()\n",
    "X_train, X_test, y_train, y_test = train_test_split(X, y, test_size = 0.2, random_state = 42)"
   ]
  },
  {
   "cell_type": "code",
   "execution_count": 161,
   "id": "06961c61",
   "metadata": {},
   "outputs": [],
   "source": [
    "X_train_scaled = scaler.fit_transform(X_train)\n",
    "X_test_scaled = scaler.fit_transform(X_test)"
   ]
  },
  {
   "cell_type": "code",
   "execution_count": 162,
   "id": "a1cd6cd7",
   "metadata": {},
   "outputs": [],
   "source": [
    "cv_acc = cross_val_score(classifier, X_train_scaled, y_train, cv=10)"
   ]
  },
  {
   "cell_type": "code",
   "execution_count": 163,
   "id": "8cd2259e",
   "metadata": {},
   "outputs": [
    {
     "name": "stdout",
     "output_type": "stream",
     "text": [
      "Cross-validation accuracy: 0.4664736279401283\n"
     ]
    }
   ],
   "source": [
    "print('Cross-validation accuracy: {}'.format(np.mean(cv_acc)))"
   ]
  },
  {
   "cell_type": "code",
   "execution_count": 165,
   "id": "642d7557",
   "metadata": {},
   "outputs": [
    {
     "name": "stdout",
     "output_type": "stream",
     "text": [
      "Test score: 0.5098039215686274\n"
     ]
    }
   ],
   "source": [
    "print('Test score: {}'.format((classifier.fit(X_train_scaled, y_train)).score(X_test_scaled, y_test)))"
   ]
  },
  {
   "cell_type": "markdown",
   "id": "2fcbea95",
   "metadata": {},
   "source": [
    "Validation of parameters:"
   ]
  },
  {
   "cell_type": "code",
   "execution_count": 166,
   "id": "4ee7d136",
   "metadata": {},
   "outputs": [],
   "source": [
    "y_predicted = classifier.predict(X_test_scaled)"
   ]
  },
  {
   "cell_type": "code",
   "execution_count": 167,
   "id": "69baff3a",
   "metadata": {},
   "outputs": [],
   "source": [
    "ConfusionMatrix_SVC = confusion_matrix(y_test, y_predicted)"
   ]
  },
  {
   "cell_type": "code",
   "execution_count": 178,
   "id": "92d46726",
   "metadata": {},
   "outputs": [
    {
     "name": "stdout",
     "output_type": "stream",
     "text": [
      "Best parameter:{'C': 0.1, 'gamma': 10.0, 'kernel': 'rbf'}\n"
     ]
    }
   ],
   "source": [
    "search_space = [{'kernel' : ['rbf'],\n",
    "                 'C' : np.logspace(-3, 3, 7),\n",
    "                 'gamma' : np.logspace(-3,2,6)}]\n",
    "\n",
    "gridsearch = GridSearchCV(classifier, param_grid = search_space, refit=True, cv=10, n_jobs = -1)\n",
    "gridsearch.fit(X_train_scaled, y_train)\n",
    "print(f'Best parameter:{gridsearch.best_params_}')\n",
    "cv_acc = gridsearch.best_score_"
   ]
  },
  {
   "cell_type": "code",
   "execution_count": 179,
   "id": "01dee361",
   "metadata": {},
   "outputs": [
    {
     "data": {
      "text/plain": [
       "0.50299952482775"
      ]
     },
     "execution_count": 179,
     "metadata": {},
     "output_type": "execute_result"
    }
   ],
   "source": [
    "cv_acc"
   ]
  },
  {
   "cell_type": "code",
   "execution_count": null,
   "id": "3d33acf0",
   "metadata": {},
   "outputs": [],
   "source": []
  }
 ],
 "metadata": {
  "kernelspec": {
   "display_name": "Python 3",
   "language": "python",
   "name": "python3"
  },
  "language_info": {
   "codemirror_mode": {
    "name": "ipython",
    "version": 3
   },
   "file_extension": ".py",
   "mimetype": "text/x-python",
   "name": "python",
   "nbconvert_exporter": "python",
   "pygments_lexer": "ipython3",
   "version": "3.8.8"
  }
 },
 "nbformat": 4,
 "nbformat_minor": 5
}
